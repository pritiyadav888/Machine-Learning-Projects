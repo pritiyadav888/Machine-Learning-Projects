{
  "nbformat": 4,
  "nbformat_minor": 0,
  "metadata": {
    "colab": {
      "name": "web_scrape_Weather.ipynb",
      "provenance": [],
      "authorship_tag": "ABX9TyPHTlE5VZrFlAxH98c4QMB+",
      "include_colab_link": true
    },
    "kernelspec": {
      "name": "python3",
      "display_name": "Python 3"
    },
    "language_info": {
      "name": "python"
    }
  },
  "cells": [
    {
      "cell_type": "markdown",
      "metadata": {
        "id": "view-in-github",
        "colab_type": "text"
      },
      "source": [
        "<a href=\"https://colab.research.google.com/github/pritiyadav888/Machine-Learning-Projects/blob/main/web_scrape_Weather.ipynb\" target=\"_parent\"><img src=\"https://colab.research.google.com/assets/colab-badge.svg\" alt=\"Open In Colab\"/></a>"
      ]
    },
    {
      "cell_type": "markdown",
      "source": [
        "\n",
        "Resource - https://www.dataquest.io/blog/web-scraping-python-using-beautiful-soup/\n",
        "\n"
      ],
      "metadata": {
        "id": "bMIkXzrWD7Zw"
      }
    },
    {
      "cell_type": "code",
      "execution_count": null,
      "metadata": {
        "id": "Bd_Zudi4BTlt"
      },
      "outputs": [],
      "source": [
        "from bs4 import BeautifulSoup\n",
        "import requests\n"
      ]
    },
    {
      "cell_type": "code",
      "source": [
        "page = requests.get(\"https://forecast.weather.gov/MapClick.php?lat=37.7772&lon=-122.4168#.YeCBM1jMI-Q\")\n",
        "soup = BeautifulSoup(page.content, 'html.parser')\n",
        "seven_day = soup.find(id=\"seven-day-forecast\")\n",
        "forecast_items = seven_day.find_all(class_=\"tombstone-container\")\n",
        "tonight = forecast_items[0]\n",
        "print(tonight.prettify())"
      ],
      "metadata": {
        "colab": {
          "base_uri": "https://localhost:8080/"
        },
        "id": "7peZ-P8cBZHc",
        "outputId": "1e3c2ab5-c1aa-48b3-9343-f364e0111803"
      },
      "execution_count": null,
      "outputs": [
        {
          "output_type": "stream",
          "name": "stdout",
          "text": [
            "<div class=\"tombstone-container\">\n",
            " <p class=\"period-name\">\n",
            "  Today\n",
            "  <br/>\n",
            "  <br/>\n",
            " </p>\n",
            " <p>\n",
            "  <img alt=\"Today: Partly sunny, with a high near 60. West northwest wind 5 to 13 mph. \" class=\"forecast-icon\" src=\"newimages/medium/bkn.png\" title=\"Today: Partly sunny, with a high near 60. West northwest wind 5 to 13 mph. \"/>\n",
            " </p>\n",
            " <p class=\"short-desc\">\n",
            "  Partly Sunny\n",
            " </p>\n",
            " <p class=\"temp temp-high\">\n",
            "  High: 60 °F\n",
            " </p>\n",
            "</div>\n"
          ]
        }
      ]
    },
    {
      "cell_type": "code",
      "source": [
        "period = tonight.find(class_=\"period-name\").get_text()\n",
        "short_desc = tonight.find(class_=\"short-desc\").get_text()\n",
        "temp = tonight.find(class_=\"temp\").get_text()\n",
        "print(period)\n",
        "print(short_desc)\n",
        "print(temp)"
      ],
      "metadata": {
        "colab": {
          "base_uri": "https://localhost:8080/"
        },
        "id": "DoGmv-G6Bjw9",
        "outputId": "15ac6a96-55dc-4809-9af0-00a6f1b32899"
      },
      "execution_count": null,
      "outputs": [
        {
          "output_type": "stream",
          "name": "stdout",
          "text": [
            "Today\n",
            "Partly Sunny\n",
            "High: 60 °F\n"
          ]
        }
      ]
    },
    {
      "cell_type": "code",
      "source": [
        "img = tonight.find(\"img\")\n",
        "desc = img['title']\n",
        "print(desc)"
      ],
      "metadata": {
        "colab": {
          "base_uri": "https://localhost:8080/"
        },
        "id": "rGSRz3o8Bmke",
        "outputId": "298a5677-ee10-46c3-dcba-a26e41c22ae9"
      },
      "execution_count": null,
      "outputs": [
        {
          "output_type": "stream",
          "name": "stdout",
          "text": [
            "Today: Partly sunny, with a high near 60. West northwest wind 5 to 13 mph. \n"
          ]
        }
      ]
    },
    {
      "cell_type": "code",
      "source": [
        "period_tags = seven_day.select(\".tombstone-container .period-name\")\n",
        "periods = [pt.get_text() for pt in period_tags]\n",
        "periods"
      ],
      "metadata": {
        "colab": {
          "base_uri": "https://localhost:8080/"
        },
        "id": "8JV54BeHBpA5",
        "outputId": "658ba43b-9215-4b2c-e322-0b329c24e196"
      },
      "execution_count": null,
      "outputs": [
        {
          "output_type": "execute_result",
          "data": {
            "text/plain": [
              "['Today',\n",
              " 'Tonight',\n",
              " 'Friday',\n",
              " 'FridayNight',\n",
              " 'Saturday',\n",
              " 'SaturdayNight',\n",
              " 'Sunday',\n",
              " 'SundayNight',\n",
              " 'M.L.KingDay']"
            ]
          },
          "metadata": {},
          "execution_count": 5
        }
      ]
    },
    {
      "cell_type": "code",
      "source": [
        "short_descs = [sd.get_text() for sd in seven_day.select(\".tombstone-container .short-desc\")]\n",
        "temps = [t.get_text() for t in seven_day.select(\".tombstone-container .temp\")]\n",
        "descs = [d[\"title\"] for d in seven_day.select(\".tombstone-container img\")]\n",
        "print(short_descs)\n",
        "print(temps)\n",
        "print(descs)"
      ],
      "metadata": {
        "colab": {
          "base_uri": "https://localhost:8080/"
        },
        "id": "wY3ZvnblBtEQ",
        "outputId": "0c04a9fa-b96d-4284-c341-3b1ae3247a9e"
      },
      "execution_count": null,
      "outputs": [
        {
          "output_type": "stream",
          "name": "stdout",
          "text": [
            "['Partly Sunny', 'Mostly Cloudy', 'Sunny', 'Partly Cloudy', 'Mostly Sunny', 'Partly Cloudy', 'Sunny', 'Mostly Clear', 'Mostly Sunny']\n",
            "['High: 60 °F', 'Low: 46 °F', 'High: 60 °F', 'Low: 46 °F', 'High: 60 °F', 'Low: 45 °F', 'High: 60 °F', 'Low: 44 °F', 'High: 59 °F']\n",
            "['Today: Partly sunny, with a high near 60. West northwest wind 5 to 13 mph. ', 'Tonight: Mostly cloudy, with a low around 46. North wind 3 to 8 mph. ', 'Friday: Sunny, with a high near 60. Light and variable wind becoming north 5 to 7 mph in the morning. ', 'Friday Night: Partly cloudy, with a low around 46. East northeast wind 5 to 8 mph. ', 'Saturday: Mostly sunny, with a high near 60. East southeast wind 5 to 7 mph becoming light and variable  in the afternoon. ', 'Saturday Night: Partly cloudy, with a low around 45.', 'Sunday: Sunny, with a high near 60.', 'Sunday Night: Mostly clear, with a low around 44.', 'M.L.King Day: Mostly sunny, with a high near 59.']\n"
          ]
        }
      ]
    },
    {
      "cell_type": "code",
      "source": [
        "import pandas as pd\n",
        "weather = pd.DataFrame({\n",
        "    \"period\": periods,\n",
        "    \"short_desc\": short_descs,\n",
        "    \"temp\": temps,\n",
        "    \"desc\":descs\n",
        "})\n",
        "weather"
      ],
      "metadata": {
        "colab": {
          "base_uri": "https://localhost:8080/",
          "height": 301
        },
        "id": "tZNwc5TkB1hD",
        "outputId": "b26e2a3b-17f5-40f0-e291-59e5bb3c97bc"
      },
      "execution_count": null,
      "outputs": [
        {
          "output_type": "execute_result",
          "data": {
            "text/html": [
              "\n",
              "  <div id=\"df-6942f264-d99c-4d6e-9d38-143fcb572ee3\">\n",
              "    <div class=\"colab-df-container\">\n",
              "      <div>\n",
              "<style scoped>\n",
              "    .dataframe tbody tr th:only-of-type {\n",
              "        vertical-align: middle;\n",
              "    }\n",
              "\n",
              "    .dataframe tbody tr th {\n",
              "        vertical-align: top;\n",
              "    }\n",
              "\n",
              "    .dataframe thead th {\n",
              "        text-align: right;\n",
              "    }\n",
              "</style>\n",
              "<table border=\"1\" class=\"dataframe\">\n",
              "  <thead>\n",
              "    <tr style=\"text-align: right;\">\n",
              "      <th></th>\n",
              "      <th>period</th>\n",
              "      <th>short_desc</th>\n",
              "      <th>temp</th>\n",
              "      <th>desc</th>\n",
              "    </tr>\n",
              "  </thead>\n",
              "  <tbody>\n",
              "    <tr>\n",
              "      <th>0</th>\n",
              "      <td>Today</td>\n",
              "      <td>Partly Sunny</td>\n",
              "      <td>High: 60 °F</td>\n",
              "      <td>Today: Partly sunny, with a high near 60. West...</td>\n",
              "    </tr>\n",
              "    <tr>\n",
              "      <th>1</th>\n",
              "      <td>Tonight</td>\n",
              "      <td>Mostly Cloudy</td>\n",
              "      <td>Low: 46 °F</td>\n",
              "      <td>Tonight: Mostly cloudy, with a low around 46. ...</td>\n",
              "    </tr>\n",
              "    <tr>\n",
              "      <th>2</th>\n",
              "      <td>Friday</td>\n",
              "      <td>Sunny</td>\n",
              "      <td>High: 60 °F</td>\n",
              "      <td>Friday: Sunny, with a high near 60. Light and ...</td>\n",
              "    </tr>\n",
              "    <tr>\n",
              "      <th>3</th>\n",
              "      <td>FridayNight</td>\n",
              "      <td>Partly Cloudy</td>\n",
              "      <td>Low: 46 °F</td>\n",
              "      <td>Friday Night: Partly cloudy, with a low around...</td>\n",
              "    </tr>\n",
              "    <tr>\n",
              "      <th>4</th>\n",
              "      <td>Saturday</td>\n",
              "      <td>Mostly Sunny</td>\n",
              "      <td>High: 60 °F</td>\n",
              "      <td>Saturday: Mostly sunny, with a high near 60. E...</td>\n",
              "    </tr>\n",
              "    <tr>\n",
              "      <th>5</th>\n",
              "      <td>SaturdayNight</td>\n",
              "      <td>Partly Cloudy</td>\n",
              "      <td>Low: 45 °F</td>\n",
              "      <td>Saturday Night: Partly cloudy, with a low arou...</td>\n",
              "    </tr>\n",
              "    <tr>\n",
              "      <th>6</th>\n",
              "      <td>Sunday</td>\n",
              "      <td>Sunny</td>\n",
              "      <td>High: 60 °F</td>\n",
              "      <td>Sunday: Sunny, with a high near 60.</td>\n",
              "    </tr>\n",
              "    <tr>\n",
              "      <th>7</th>\n",
              "      <td>SundayNight</td>\n",
              "      <td>Mostly Clear</td>\n",
              "      <td>Low: 44 °F</td>\n",
              "      <td>Sunday Night: Mostly clear, with a low around 44.</td>\n",
              "    </tr>\n",
              "    <tr>\n",
              "      <th>8</th>\n",
              "      <td>M.L.KingDay</td>\n",
              "      <td>Mostly Sunny</td>\n",
              "      <td>High: 59 °F</td>\n",
              "      <td>M.L.King Day: Mostly sunny, with a high near 59.</td>\n",
              "    </tr>\n",
              "  </tbody>\n",
              "</table>\n",
              "</div>\n",
              "      <button class=\"colab-df-convert\" onclick=\"convertToInteractive('df-6942f264-d99c-4d6e-9d38-143fcb572ee3')\"\n",
              "              title=\"Convert this dataframe to an interactive table.\"\n",
              "              style=\"display:none;\">\n",
              "        \n",
              "  <svg xmlns=\"http://www.w3.org/2000/svg\" height=\"24px\"viewBox=\"0 0 24 24\"\n",
              "       width=\"24px\">\n",
              "    <path d=\"M0 0h24v24H0V0z\" fill=\"none\"/>\n",
              "    <path d=\"M18.56 5.44l.94 2.06.94-2.06 2.06-.94-2.06-.94-.94-2.06-.94 2.06-2.06.94zm-11 1L8.5 8.5l.94-2.06 2.06-.94-2.06-.94L8.5 2.5l-.94 2.06-2.06.94zm10 10l.94 2.06.94-2.06 2.06-.94-2.06-.94-.94-2.06-.94 2.06-2.06.94z\"/><path d=\"M17.41 7.96l-1.37-1.37c-.4-.4-.92-.59-1.43-.59-.52 0-1.04.2-1.43.59L10.3 9.45l-7.72 7.72c-.78.78-.78 2.05 0 2.83L4 21.41c.39.39.9.59 1.41.59.51 0 1.02-.2 1.41-.59l7.78-7.78 2.81-2.81c.8-.78.8-2.07 0-2.86zM5.41 20L4 18.59l7.72-7.72 1.47 1.35L5.41 20z\"/>\n",
              "  </svg>\n",
              "      </button>\n",
              "      \n",
              "  <style>\n",
              "    .colab-df-container {\n",
              "      display:flex;\n",
              "      flex-wrap:wrap;\n",
              "      gap: 12px;\n",
              "    }\n",
              "\n",
              "    .colab-df-convert {\n",
              "      background-color: #E8F0FE;\n",
              "      border: none;\n",
              "      border-radius: 50%;\n",
              "      cursor: pointer;\n",
              "      display: none;\n",
              "      fill: #1967D2;\n",
              "      height: 32px;\n",
              "      padding: 0 0 0 0;\n",
              "      width: 32px;\n",
              "    }\n",
              "\n",
              "    .colab-df-convert:hover {\n",
              "      background-color: #E2EBFA;\n",
              "      box-shadow: 0px 1px 2px rgba(60, 64, 67, 0.3), 0px 1px 3px 1px rgba(60, 64, 67, 0.15);\n",
              "      fill: #174EA6;\n",
              "    }\n",
              "\n",
              "    [theme=dark] .colab-df-convert {\n",
              "      background-color: #3B4455;\n",
              "      fill: #D2E3FC;\n",
              "    }\n",
              "\n",
              "    [theme=dark] .colab-df-convert:hover {\n",
              "      background-color: #434B5C;\n",
              "      box-shadow: 0px 1px 3px 1px rgba(0, 0, 0, 0.15);\n",
              "      filter: drop-shadow(0px 1px 2px rgba(0, 0, 0, 0.3));\n",
              "      fill: #FFFFFF;\n",
              "    }\n",
              "  </style>\n",
              "\n",
              "      <script>\n",
              "        const buttonEl =\n",
              "          document.querySelector('#df-6942f264-d99c-4d6e-9d38-143fcb572ee3 button.colab-df-convert');\n",
              "        buttonEl.style.display =\n",
              "          google.colab.kernel.accessAllowed ? 'block' : 'none';\n",
              "\n",
              "        async function convertToInteractive(key) {\n",
              "          const element = document.querySelector('#df-6942f264-d99c-4d6e-9d38-143fcb572ee3');\n",
              "          const dataTable =\n",
              "            await google.colab.kernel.invokeFunction('convertToInteractive',\n",
              "                                                     [key], {});\n",
              "          if (!dataTable) return;\n",
              "\n",
              "          const docLinkHtml = 'Like what you see? Visit the ' +\n",
              "            '<a target=\"_blank\" href=https://colab.research.google.com/notebooks/data_table.ipynb>data table notebook</a>'\n",
              "            + ' to learn more about interactive tables.';\n",
              "          element.innerHTML = '';\n",
              "          dataTable['output_type'] = 'display_data';\n",
              "          await google.colab.output.renderOutput(dataTable, element);\n",
              "          const docLink = document.createElement('div');\n",
              "          docLink.innerHTML = docLinkHtml;\n",
              "          element.appendChild(docLink);\n",
              "        }\n",
              "      </script>\n",
              "    </div>\n",
              "  </div>\n",
              "  "
            ],
            "text/plain": [
              "          period  ...                                               desc\n",
              "0          Today  ...  Today: Partly sunny, with a high near 60. West...\n",
              "1        Tonight  ...  Tonight: Mostly cloudy, with a low around 46. ...\n",
              "2         Friday  ...  Friday: Sunny, with a high near 60. Light and ...\n",
              "3    FridayNight  ...  Friday Night: Partly cloudy, with a low around...\n",
              "4       Saturday  ...  Saturday: Mostly sunny, with a high near 60. E...\n",
              "5  SaturdayNight  ...  Saturday Night: Partly cloudy, with a low arou...\n",
              "6         Sunday  ...                Sunday: Sunny, with a high near 60.\n",
              "7    SundayNight  ...  Sunday Night: Mostly clear, with a low around 44.\n",
              "8    M.L.KingDay  ...   M.L.King Day: Mostly sunny, with a high near 59.\n",
              "\n",
              "[9 rows x 4 columns]"
            ]
          },
          "metadata": {},
          "execution_count": 9
        }
      ]
    },
    {
      "cell_type": "code",
      "source": [
        "temp_nums = weather[\"temp\"].str.extract(r\"(?P<temp_num>\\d+)\", expand=False)\n",
        "weather[\"temp_num\"] = temp_nums.astype('int')\n",
        "temp_nums"
      ],
      "metadata": {
        "colab": {
          "base_uri": "https://localhost:8080/"
        },
        "id": "RTvaCey5B495",
        "outputId": "e1c80126-11c6-42e5-bd2a-9bd87eff3b15"
      },
      "execution_count": null,
      "outputs": [
        {
          "output_type": "execute_result",
          "data": {
            "text/plain": [
              "0    60\n",
              "1    46\n",
              "2    60\n",
              "3    46\n",
              "4    60\n",
              "5    45\n",
              "6    60\n",
              "7    44\n",
              "8    59\n",
              "Name: temp_num, dtype: object"
            ]
          },
          "metadata": {},
          "execution_count": 13
        }
      ]
    }
  ]
}