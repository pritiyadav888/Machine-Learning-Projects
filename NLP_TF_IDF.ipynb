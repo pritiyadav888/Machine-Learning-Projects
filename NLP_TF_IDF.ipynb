{
  "cells": [
    {
      "cell_type": "markdown",
      "metadata": {
        "id": "view-in-github",
        "colab_type": "text"
      },
      "source": [
        "<a href=\"https://colab.research.google.com/github/pritiyadav888/Machine-Learning-Projects/blob/main/NLP_TF_IDF.ipynb\" target=\"_parent\"><img src=\"https://colab.research.google.com/assets/colab-badge.svg\" alt=\"Open In Colab\"/></a>"
      ]
    },
    {
      "cell_type": "markdown",
      "metadata": {
        "id": "QE4VO40Gbl1U"
      },
      "source": [
        "## TF-IDF\n",
        "\n",
        "In all the other approaches we saw so far, all the words in the text are treated equally important. There is no notion of some words in the document being more important than others. TF-IDF addresses this issue. It aims to quantify the importance of a given word relative to other words in the document and in the corpus. It was commonly used representation scheme for information retrieval systems, for extracting relevant documents from a corpus for given text query. \n",
        "\n",
        "This notebook shows a simple example of how to get the TF-IDF representation of a document using sklearn's TfidfVectorizer. "
      ]
    },
    {
      "cell_type": "code",
      "execution_count": 3,
      "metadata": {
        "colab": {
          "base_uri": "https://localhost:8080/"
        },
        "id": "5S4Ircomar27",
        "outputId": "2fc2acb4-c75e-4e81-a66a-641b4ed3230f"
      },
      "outputs": [
        {
          "output_type": "execute_result",
          "data": {
            "text/plain": [
              "['some actors are singers', 'all the singers are dancers']"
            ]
          },
          "metadata": {},
          "execution_count": 3
        }
      ],
      "source": [
        "documents = [\"Some actors are singers.\", \"All the singers are dancers.\"]\n",
        "processed_docs = [doc.lower().replace(\".\",\"\") for doc in documents]\n",
        "processed_docs"
      ]
    },
    {
      "cell_type": "code",
      "execution_count": 5,
      "metadata": {
        "colab": {
          "base_uri": "https://localhost:8080/"
        },
        "id": "BRjyqt4Ba2zx",
        "outputId": "2b401c67-dd3c-4a5b-86c0-e7509417fd01"
      },
      "outputs": [
        {
          "output_type": "stream",
          "name": "stdout",
          "text": [
            "IDF for all words in the vocabulary [1.40546511 1.40546511 1.         1.40546511 1.         1.40546511\n",
            " 1.40546511]\n",
            "----------\n",
            "All words in the vocabulary ['actors', 'all', 'are', 'dancers', 'singers', 'some', 'the']\n",
            "----------\n",
            "TFIDF representation for all documents in our corpus\n",
            " [[0.57615236 0.         0.40993715 0.         0.40993715 0.57615236\n",
            "  0.        ]\n",
            " [0.         0.49922133 0.35520009 0.49922133 0.35520009 0.\n",
            "  0.49922133]]\n",
            "----------\n",
            "Tfidf representation for 'No singer is actor':\n",
            " [[0. 0. 0. 0. 0. 0. 0.]]\n"
          ]
        },
        {
          "output_type": "stream",
          "name": "stderr",
          "text": [
            "/usr/local/lib/python3.7/dist-packages/sklearn/utils/deprecation.py:87: FutureWarning: Function get_feature_names is deprecated; get_feature_names is deprecated in 1.0 and will be removed in 1.2. Please use get_feature_names_out instead.\n",
            "  warnings.warn(msg, category=FutureWarning)\n"
          ]
        }
      ],
      "source": [
        "from sklearn.feature_extraction.text import TfidfVectorizer\n",
        "\n",
        "tfidf = TfidfVectorizer()\n",
        "bow_rep_tfidf = tfidf.fit_transform(processed_docs)\n",
        "\n",
        "#IDF for all words in the vocabulary\n",
        "print(\"IDF for all words in the vocabulary\",tfidf.idf_)\n",
        "print(\"-\"*10)\n",
        "#All words in the vocabulary.\n",
        "print(\"All words in the vocabulary\",tfidf.get_feature_names())\n",
        "print(\"-\"*10)\n",
        "\n",
        "#TFIDF representation for all documents in our corpus \n",
        "print(\"TFIDF representation for all documents in our corpus\\n\",bow_rep_tfidf.toarray()) \n",
        "print(\"-\"*10)\n",
        "\n",
        "temp = tfidf.transform([\"No singer is actor.\"])\n",
        "print(\"Tfidf representation for 'No singer is actor':\\n\", temp.toarray())"
      ]
    }
  ],
  "metadata": {
    "colab": {
      "collapsed_sections": [],
      "name": "NLP_TF_IDF.ipynb",
      "provenance": [],
      "include_colab_link": true
    },
    "kernelspec": {
      "display_name": "Python 3",
      "language": "python",
      "name": "python3"
    },
    "language_info": {
      "codemirror_mode": {
        "name": "ipython",
        "version": 3
      },
      "file_extension": ".py",
      "mimetype": "text/x-python",
      "name": "python",
      "nbconvert_exporter": "python",
      "pygments_lexer": "ipython3",
      "version": "3.8.5"
    }
  },
  "nbformat": 4,
  "nbformat_minor": 0
}