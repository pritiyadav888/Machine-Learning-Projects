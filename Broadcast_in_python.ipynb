{
  "nbformat": 4,
  "nbformat_minor": 0,
  "metadata": {
    "colab": {
      "name": "Broadcast in python.ipynb",
      "provenance": [],
      "authorship_tag": "ABX9TyMYyI9W3J8X8csILJz9TJEJ",
      "include_colab_link": true
    },
    "kernelspec": {
      "name": "python3",
      "display_name": "Python 3"
    },
    "language_info": {
      "name": "python"
    }
  },
  "cells": [
    {
      "cell_type": "markdown",
      "metadata": {
        "id": "view-in-github",
        "colab_type": "text"
      },
      "source": [
        "<a href=\"https://colab.research.google.com/github/pritiyadav888/Machine-Learning-Projects/blob/main/Broadcast_in_python.ipynb\" target=\"_parent\"><img src=\"https://colab.research.google.com/assets/colab-badge.svg\" alt=\"Open In Colab\"/></a>"
      ]
    },
    {
      "cell_type": "markdown",
      "source": [
        "X is a 3*4 matrix."
      ],
      "metadata": {
        "id": "NtPfEhoDQw7V"
      }
    },
    {
      "cell_type": "code",
      "execution_count": 1,
      "metadata": {
        "colab": {
          "base_uri": "https://localhost:8080/"
        },
        "id": "VkxHH7qjLBU_",
        "outputId": "2a3c333e-19cf-43f0-d982-19dc9f853576"
      },
      "outputs": [
        {
          "output_type": "stream",
          "name": "stdout",
          "text": [
            "[[ 2.    4.    6.    8.  ]\n",
            " [ 3.45  2.39  9.1   7.7 ]\n",
            " [33.   54.   76.   90.  ]]\n"
          ]
        }
      ],
      "source": [
        "import numpy as np\n",
        "import time\n",
        "X = np.array([[2, 4, 6, 8],[3.45, 2.39, 9.1, 7.7],[33, 54, 76, 90]])\n",
        "print(X)"
      ]
    },
    {
      "cell_type": "markdown",
      "source": [
        "Let's turn our matrix into a dataframe with row names and columns for explaination purposes"
      ],
      "metadata": {
        "id": "NHtwVs9gSrj7"
      }
    },
    {
      "cell_type": "code",
      "source": [
        "import pandas as pd\n",
        "column_names= [\"test1\", \"test2\", \"test3\", \"test4\"]\n",
        "row_names = [\"maths\", \"physics\", \"chemistry\"]\n",
        "df = pd.DataFrame(X, columns=column_names, index=row_names)\n",
        "print(df)"
      ],
      "metadata": {
        "colab": {
          "base_uri": "https://localhost:8080/"
        },
        "id": "1sEOdqYpSCAW",
        "outputId": "e4808cb6-11a3-4a2c-c4a3-e1a15380c9b3"
      },
      "execution_count": 2,
      "outputs": [
        {
          "output_type": "stream",
          "name": "stdout",
          "text": [
            "           test1  test2  test3  test4\n",
            "maths       2.00   4.00    6.0    8.0\n",
            "physics     3.45   2.39    9.1    7.7\n",
            "chemistry  33.00  54.00   76.0   90.0\n"
          ]
        }
      ]
    },
    {
      "cell_type": "markdown",
      "source": [
        "Calculate percentage of maths, physics and chemistry marks for each test respectively out of 100 total marks. Do it without a loop. Find out why axis is equal to 0. "
      ],
      "metadata": {
        "id": "7BDfPAMJTvHT"
      }
    },
    {
      "cell_type": "code",
      "source": [
        "cal = X.sum(axis=0)\n",
        "print(cal)"
      ],
      "metadata": {
        "colab": {
          "base_uri": "https://localhost:8080/"
        },
        "id": "P06ZI3B0Lq_Y",
        "outputId": "0f7788fc-50c0-4d9e-a05e-af66402b42f5"
      },
      "execution_count": 3,
      "outputs": [
        {
          "output_type": "stream",
          "name": "stdout",
          "text": [
            "[ 38.45  60.39  91.1  105.7 ]\n"
          ]
        }
      ]
    },
    {
      "cell_type": "markdown",
      "source": [
        "Here comes the broadcast"
      ],
      "metadata": {
        "id": "sFUjRTRSVVmB"
      }
    },
    {
      "cell_type": "code",
      "source": [
        "percent = 100*df/cal.reshape(1,4)\n",
        "print(percent)"
      ],
      "metadata": {
        "colab": {
          "base_uri": "https://localhost:8080/"
        },
        "id": "HDzwaGxHL9QR",
        "outputId": "0efba020-32a2-4908-dc90-0e525bc3b1ce"
      },
      "execution_count": 5,
      "outputs": [
        {
          "output_type": "stream",
          "name": "stdout",
          "text": [
            "               test1      test2      test3      test4\n",
            "maths       5.201560   6.623613   6.586169   7.568590\n",
            "physics     8.972692   3.957609   9.989023   7.284768\n",
            "chemistry  85.825748  89.418778  83.424808  85.146641\n",
            "18.97287368774414\n"
          ]
        }
      ]
    },
    {
      "cell_type": "markdown",
      "source": [
        "Yay! You have a solution in the cell above. In test1 - percentage of maths is approx 5.2, physics is approx 8.9 and chemistry is 85.8. We did it without an explicit for loop. As we want python to the sum vertically, so axis is 0. Check out the for loop for this execise below."
      ],
      "metadata": {
        "id": "zqkpQWQuS36l"
      }
    },
    {
      "cell_type": "code",
      "source": [
        " for j in range(len(X[0])):\n",
        "    for i in range(len(X)):\n",
        "      print( X[i][j]/cal[j]*100 )"
      ],
      "metadata": {
        "colab": {
          "base_uri": "https://localhost:8080/"
        },
        "id": "rcaT9gYljo38",
        "outputId": "f461fb53-c6cb-4d56-fb9c-a4839d6af543"
      },
      "execution_count": 7,
      "outputs": [
        {
          "output_type": "stream",
          "name": "stdout",
          "text": [
            "5.201560468140442\n",
            "8.972691807542263\n",
            "85.8257477243173\n",
            "6.6236131809902306\n",
            "3.9576088756416627\n",
            "89.41877794336811\n",
            "6.586169045005488\n",
            "9.989023051591658\n",
            "83.42480790340286\n",
            "7.5685903500473035\n",
            "7.28476821192053\n",
            "85.14664143803216\n"
          ]
        }
      ]
    }
  ]
}