{
  "nbformat": 4,
  "nbformat_minor": 0,
  "metadata": {
    "kernelspec": {
      "language": "python",
      "display_name": "Python 3",
      "name": "python3"
    },
    "language_info": {
      "name": "python",
      "version": "3.7.10",
      "mimetype": "text/x-python",
      "codemirror_mode": {
        "name": "ipython",
        "version": 3
      },
      "pygments_lexer": "ipython3",
      "nbconvert_exporter": "python",
      "file_extension": ".py"
    },
    "colab": {
      "name": "google_vantilaor_NN.ipynb",
      "provenance": [],
      "include_colab_link": true
    }
  },
  "cells": [
    {
      "cell_type": "markdown",
      "metadata": {
        "id": "view-in-github",
        "colab_type": "text"
      },
      "source": [
        "<a href=\"https://colab.research.google.com/github/pritiyadav888/Machine-Learning-Projects/blob/main/google_vantilaor_NN.ipynb\" target=\"_parent\"><img src=\"https://colab.research.google.com/assets/colab-badge.svg\" alt=\"Open In Colab\"/></a>"
      ]
    },
    {
      "cell_type": "code",
      "metadata": {
        "execution": {
          "iopub.status.busy": "2021-10-05T17:05:30.014859Z",
          "iopub.execute_input": "2021-10-05T17:05:30.015148Z",
          "iopub.status.idle": "2021-10-05T17:05:30.023649Z",
          "shell.execute_reply.started": "2021-10-05T17:05:30.015117Z",
          "shell.execute_reply": "2021-10-05T17:05:30.022581Z"
        },
        "trusted": true,
        "id": "Nps4v_McsQOD"
      },
      "source": [
        "# This Python 3 environment comes with many helpful analytics libraries installed\n",
        "# It is defined by the kaggle/python Docker image: https://github.com/kaggle/docker-python\n",
        "# For example, here's several helpful packages to load\n",
        "\n",
        "import numpy as np # linear algebra\n",
        "import pandas as pd # data processing, CSV file I/O (e.g. pd.read_csv)\n",
        "\n",
        "# Input data files are available in the read-only \"../input/\" directory\n",
        "# For example, running this (by clicking run or pressing Shift+Enter) will list all files under the input directory\n",
        "\n",
        "import os\n",
        "for dirname, _, filenames in os.walk('/kaggle/input'):\n",
        "    for filename in filenames:\n",
        "        print(os.path.join(dirname, filename))\n",
        "\n",
        "# You can write up to 20GB to the current directory (/kaggle/working/) that gets preserved as output when you create a version using \"Save & Run All\" \n",
        "# You can also write temporary files to /kaggle/temp/, but they won't be saved outside of the current session\n"
      ],
      "execution_count": 5,
      "outputs": []
    },
    {
      "cell_type": "code",
      "metadata": {
        "colab": {
          "base_uri": "https://localhost:8080/"
        },
        "id": "2yYFDQN6sZ73",
        "outputId": "153f795e-3ee9-434d-d25c-d01166ba9dc7"
      },
      "source": [
        "from google.colab import drive\n",
        "drive.mount('/content/drive')\n"
      ],
      "execution_count": 6,
      "outputs": [
        {
          "output_type": "stream",
          "name": "stdout",
          "text": [
            "Drive already mounted at /content/drive; to attempt to forcibly remount, call drive.mount(\"/content/drive\", force_remount=True).\n"
          ]
        }
      ]
    },
    {
      "cell_type": "code",
      "metadata": {
        "execution": {
          "iopub.status.busy": "2021-10-05T17:06:18.328495Z",
          "iopub.execute_input": "2021-10-05T17:06:18.329271Z",
          "iopub.status.idle": "2021-10-05T17:06:18.334141Z",
          "shell.execute_reply.started": "2021-10-05T17:06:18.329233Z",
          "shell.execute_reply": "2021-10-05T17:06:18.333474Z"
        },
        "trusted": true,
        "id": "Nrxtg-S7sQOH"
      },
      "source": [
        "import pandas as pd\n",
        "import numpy as np\n",
        "\n",
        "# Make numpy values easier to read.\n",
        "np.set_printoptions(precision=3, suppress=True)\n",
        "\n",
        "import tensorflow as tf\n",
        "from tensorflow import keras\n",
        "from tensorflow.keras import layers\n",
        "from tensorflow.keras.layers.experimental import preprocessing\n",
        "\n",
        "import gc"
      ],
      "execution_count": 7,
      "outputs": []
    },
    {
      "cell_type": "code",
      "metadata": {
        "execution": {
          "iopub.status.busy": "2021-10-05T17:00:48.041587Z",
          "iopub.execute_input": "2021-10-05T17:00:48.042415Z",
          "iopub.status.idle": "2021-10-05T17:01:01.328193Z",
          "shell.execute_reply.started": "2021-10-05T17:00:48.042361Z",
          "shell.execute_reply": "2021-10-05T17:01:01.327137Z"
        },
        "trusted": true,
        "id": "9Q_QlFRdsQOH"
      },
      "source": [
        "# # load the dataset\n",
        "# train = loadtxt('../input/ventilator-pressure-prediction/train.csv', delimiter=',')\n",
        "# test = loadtxt('../input/ventilator-pressure-prediction/test.csv', delimiter=',')\n",
        "train = pd.read_csv('/content/drive/MyDrive/Colab Notebooks/Predictive_Data/vantilator_google/train.csv')\n",
        "test = pd.read_csv('/content/drive/MyDrive/Colab Notebooks/Predictive_Data/vantilator_google/test.csv')\n",
        "# sample = pd.read_csv('../input/ventilator-pressure-prediction/sample_submission.csv')"
      ],
      "execution_count": 8,
      "outputs": []
    },
    {
      "cell_type": "code",
      "metadata": {
        "execution": {
          "iopub.status.busy": "2021-10-05T17:01:03.024274Z",
          "iopub.execute_input": "2021-10-05T17:01:03.025048Z",
          "iopub.status.idle": "2021-10-05T17:01:03.050917Z",
          "shell.execute_reply.started": "2021-10-05T17:01:03.025010Z",
          "shell.execute_reply": "2021-10-05T17:01:03.050055Z"
        },
        "trusted": true,
        "colab": {
          "base_uri": "https://localhost:8080/",
          "height": 204
        },
        "id": "RZb52iuNsQOI",
        "outputId": "da702b2b-0590-4256-9bee-1bbb8256c4d1"
      },
      "source": [
        "train.head()"
      ],
      "execution_count": 9,
      "outputs": [
        {
          "output_type": "execute_result",
          "data": {
            "text/html": [
              "<div>\n",
              "<style scoped>\n",
              "    .dataframe tbody tr th:only-of-type {\n",
              "        vertical-align: middle;\n",
              "    }\n",
              "\n",
              "    .dataframe tbody tr th {\n",
              "        vertical-align: top;\n",
              "    }\n",
              "\n",
              "    .dataframe thead th {\n",
              "        text-align: right;\n",
              "    }\n",
              "</style>\n",
              "<table border=\"1\" class=\"dataframe\">\n",
              "  <thead>\n",
              "    <tr style=\"text-align: right;\">\n",
              "      <th></th>\n",
              "      <th>id</th>\n",
              "      <th>breath_id</th>\n",
              "      <th>R</th>\n",
              "      <th>C</th>\n",
              "      <th>time_step</th>\n",
              "      <th>u_in</th>\n",
              "      <th>u_out</th>\n",
              "      <th>pressure</th>\n",
              "    </tr>\n",
              "  </thead>\n",
              "  <tbody>\n",
              "    <tr>\n",
              "      <th>0</th>\n",
              "      <td>1</td>\n",
              "      <td>1</td>\n",
              "      <td>20</td>\n",
              "      <td>50</td>\n",
              "      <td>0.000000</td>\n",
              "      <td>0.083334</td>\n",
              "      <td>0</td>\n",
              "      <td>5.837492</td>\n",
              "    </tr>\n",
              "    <tr>\n",
              "      <th>1</th>\n",
              "      <td>2</td>\n",
              "      <td>1</td>\n",
              "      <td>20</td>\n",
              "      <td>50</td>\n",
              "      <td>0.033652</td>\n",
              "      <td>18.383041</td>\n",
              "      <td>0</td>\n",
              "      <td>5.907794</td>\n",
              "    </tr>\n",
              "    <tr>\n",
              "      <th>2</th>\n",
              "      <td>3</td>\n",
              "      <td>1</td>\n",
              "      <td>20</td>\n",
              "      <td>50</td>\n",
              "      <td>0.067514</td>\n",
              "      <td>22.509278</td>\n",
              "      <td>0</td>\n",
              "      <td>7.876254</td>\n",
              "    </tr>\n",
              "    <tr>\n",
              "      <th>3</th>\n",
              "      <td>4</td>\n",
              "      <td>1</td>\n",
              "      <td>20</td>\n",
              "      <td>50</td>\n",
              "      <td>0.101542</td>\n",
              "      <td>22.808822</td>\n",
              "      <td>0</td>\n",
              "      <td>11.742872</td>\n",
              "    </tr>\n",
              "    <tr>\n",
              "      <th>4</th>\n",
              "      <td>5</td>\n",
              "      <td>1</td>\n",
              "      <td>20</td>\n",
              "      <td>50</td>\n",
              "      <td>0.135756</td>\n",
              "      <td>25.355850</td>\n",
              "      <td>0</td>\n",
              "      <td>12.234987</td>\n",
              "    </tr>\n",
              "  </tbody>\n",
              "</table>\n",
              "</div>"
            ],
            "text/plain": [
              "   id  breath_id   R   C  time_step       u_in  u_out   pressure\n",
              "0   1          1  20  50   0.000000   0.083334      0   5.837492\n",
              "1   2          1  20  50   0.033652  18.383041      0   5.907794\n",
              "2   3          1  20  50   0.067514  22.509278      0   7.876254\n",
              "3   4          1  20  50   0.101542  22.808822      0  11.742872\n",
              "4   5          1  20  50   0.135756  25.355850      0  12.234987"
            ]
          },
          "metadata": {},
          "execution_count": 9
        }
      ]
    },
    {
      "cell_type": "markdown",
      "metadata": {
        "id": "kgsLWeo9sQOI"
      },
      "source": [
        "**Subsample- 20% data**"
      ]
    },
    {
      "cell_type": "code",
      "metadata": {
        "execution": {
          "iopub.status.busy": "2021-10-05T17:01:05.526150Z",
          "iopub.execute_input": "2021-10-05T17:01:05.526472Z",
          "iopub.status.idle": "2021-10-05T17:01:05.709607Z",
          "shell.execute_reply.started": "2021-10-05T17:01:05.526441Z",
          "shell.execute_reply": "2021-10-05T17:01:05.708867Z"
        },
        "trusted": true,
        "id": "XroN8rEEsQOJ"
      },
      "source": [
        "X = train.copy()\n",
        "y = X.pop('pressure')"
      ],
      "execution_count": 10,
      "outputs": []
    },
    {
      "cell_type": "code",
      "metadata": {
        "execution": {
          "iopub.status.busy": "2021-10-05T17:01:10.761110Z",
          "iopub.execute_input": "2021-10-05T17:01:10.761422Z",
          "iopub.status.idle": "2021-10-05T17:01:10.998771Z",
          "shell.execute_reply.started": "2021-10-05T17:01:10.761371Z",
          "shell.execute_reply": "2021-10-05T17:01:10.997888Z"
        },
        "trusted": true,
        "colab": {
          "base_uri": "https://localhost:8080/"
        },
        "id": "jZobZiOvsQOK",
        "outputId": "5674bb93-8cf4-4a46-86d8-aa9c5f212c47"
      },
      "source": [
        "X = np.array(X)\n",
        "X"
      ],
      "execution_count": 11,
      "outputs": [
        {
          "output_type": "execute_result",
          "data": {
            "text/plain": [
              "array([[      1.   ,       1.   ,      20.   , ...,       0.   ,\n",
              "              0.083,       0.   ],\n",
              "       [      2.   ,       1.   ,      20.   , ...,       0.034,\n",
              "             18.383,       0.   ],\n",
              "       [      3.   ,       1.   ,      20.   , ...,       0.068,\n",
              "             22.509,       0.   ],\n",
              "       ...,\n",
              "       [6035998.   ,  125749.   ,      50.   , ...,       2.571,\n",
              "              1.559,       1.   ],\n",
              "       [6035999.   ,  125749.   ,      50.   , ...,       2.605,\n",
              "              1.273,       1.   ],\n",
              "       [6036000.   ,  125749.   ,      50.   , ...,       2.638,\n",
              "              1.483,       1.   ]])"
            ]
          },
          "metadata": {},
          "execution_count": 11
        }
      ]
    },
    {
      "cell_type": "code",
      "metadata": {
        "execution": {
          "iopub.status.busy": "2021-10-05T17:01:13.466572Z",
          "iopub.execute_input": "2021-10-05T17:01:13.466853Z",
          "iopub.status.idle": "2021-10-05T17:01:15.302280Z",
          "shell.execute_reply.started": "2021-10-05T17:01:13.466825Z",
          "shell.execute_reply": "2021-10-05T17:01:15.301554Z"
        },
        "trusted": true,
        "id": "UtfOLtBAsQOK"
      },
      "source": [
        "model = tf.keras.Sequential([\n",
        "  layers.Dense(64),\n",
        "  layers.Dense(1)\n",
        "])\n",
        "\n",
        "model.compile(loss = tf.losses.MeanSquaredError(),\n",
        "                      optimizer = tf.optimizers.Adam())"
      ],
      "execution_count": 12,
      "outputs": []
    },
    {
      "cell_type": "code",
      "metadata": {
        "execution": {
          "iopub.status.busy": "2021-10-05T17:10:29.460193Z",
          "iopub.execute_input": "2021-10-05T17:10:29.460482Z",
          "iopub.status.idle": "2021-10-05T17:10:29.466765Z",
          "shell.execute_reply.started": "2021-10-05T17:10:29.460450Z",
          "shell.execute_reply": "2021-10-05T17:10:29.466033Z"
        },
        "trusted": true,
        "id": "sq-yNVOCsQON"
      },
      "source": [
        "# from keras import callbacks\n",
        "earlystopping = tf.keras.callbacks.EarlyStopping(monitor =\"val_loss\", \n",
        "                                        mode =\"min\", patience = 5, \n",
        "                                        restore_best_weights = True)"
      ],
      "execution_count": 13,
      "outputs": []
    },
    {
      "cell_type": "code",
      "metadata": {
        "execution": {
          "iopub.status.busy": "2021-10-05T17:11:37.659143Z",
          "iopub.execute_input": "2021-10-05T17:11:37.659422Z",
          "iopub.status.idle": "2021-10-05T17:35:16.353044Z",
          "shell.execute_reply.started": "2021-10-05T17:11:37.659373Z",
          "shell.execute_reply": "2021-10-05T17:35:16.352316Z"
        },
        "trusted": true,
        "colab": {
          "base_uri": "https://localhost:8080/"
        },
        "id": "XXnF85y9sQON",
        "outputId": "57bc43fa-6343-4ba9-d4f8-dc7291b6d410"
      },
      "source": [
        "model.fit(X, y, batch_size = 32, \n",
        "                    epochs = 10, \n",
        "                    callbacks =[earlystopping])"
      ],
      "execution_count": 15,
      "outputs": [
        {
          "output_type": "stream",
          "name": "stdout",
          "text": [
            "Epoch 1/10\n",
            "188625/188625 [==============================] - 233s 1ms/step - loss: 4164417.2500\n",
            "WARNING:tensorflow:Early stopping conditioned on metric `val_loss` which is not available. Available metrics are: loss\n",
            "Epoch 2/10\n",
            "188625/188625 [==============================] - 227s 1ms/step - loss: 1357250.2500\n",
            "WARNING:tensorflow:Early stopping conditioned on metric `val_loss` which is not available. Available metrics are: loss\n",
            "Epoch 3/10\n",
            "188625/188625 [==============================] - 225s 1ms/step - loss: 398681.0312\n",
            "WARNING:tensorflow:Early stopping conditioned on metric `val_loss` which is not available. Available metrics are: loss\n",
            "Epoch 4/10\n",
            "188625/188625 [==============================] - 231s 1ms/step - loss: 120456.3984\n",
            "WARNING:tensorflow:Early stopping conditioned on metric `val_loss` which is not available. Available metrics are: loss\n",
            "Epoch 5/10\n",
            "188625/188625 [==============================] - 225s 1ms/step - loss: 28287.0312\n",
            "WARNING:tensorflow:Early stopping conditioned on metric `val_loss` which is not available. Available metrics are: loss\n",
            "Epoch 6/10\n",
            "188625/188625 [==============================] - 223s 1ms/step - loss: 8496.7354\n",
            "WARNING:tensorflow:Early stopping conditioned on metric `val_loss` which is not available. Available metrics are: loss\n",
            "Epoch 7/10\n",
            "188625/188625 [==============================] - 226s 1ms/step - loss: 2932.7178\n",
            "WARNING:tensorflow:Early stopping conditioned on metric `val_loss` which is not available. Available metrics are: loss\n",
            "Epoch 8/10\n",
            "188625/188625 [==============================] - 225s 1ms/step - loss: 3087.8132\n",
            "WARNING:tensorflow:Early stopping conditioned on metric `val_loss` which is not available. Available metrics are: loss\n",
            "Epoch 9/10\n",
            "188625/188625 [==============================] - 224s 1ms/step - loss: 2690.9031\n",
            "WARNING:tensorflow:Early stopping conditioned on metric `val_loss` which is not available. Available metrics are: loss\n",
            "Epoch 10/10\n",
            "188625/188625 [==============================] - 223s 1ms/step - loss: 3536.6724\n",
            "WARNING:tensorflow:Early stopping conditioned on metric `val_loss` which is not available. Available metrics are: loss\n"
          ]
        },
        {
          "output_type": "execute_result",
          "data": {
            "text/plain": [
              "<keras.callbacks.History at 0x7fecae81b510>"
            ]
          },
          "metadata": {},
          "execution_count": 15
        }
      ]
    },
    {
      "cell_type": "code",
      "metadata": {
        "trusted": true,
        "colab": {
          "base_uri": "https://localhost:8080/"
        },
        "id": "pGNkDQk-sQOO",
        "outputId": "7cb5ebb2-6cd0-4d4a-c53d-940ba6df35eb"
      },
      "source": [
        "gc.collect()"
      ],
      "execution_count": 16,
      "outputs": [
        {
          "output_type": "execute_result",
          "data": {
            "text/plain": [
              "824"
            ]
          },
          "metadata": {},
          "execution_count": 16
        }
      ]
    },
    {
      "cell_type": "code",
      "metadata": {
        "execution": {
          "iopub.status.busy": "2021-10-05T17:35:22.061064Z",
          "iopub.execute_input": "2021-10-05T17:35:22.061674Z",
          "iopub.status.idle": "2021-10-05T17:37:11.870887Z",
          "shell.execute_reply.started": "2021-10-05T17:35:22.061634Z",
          "shell.execute_reply": "2021-10-05T17:37:11.870115Z"
        },
        "trusted": true,
        "colab": {
          "base_uri": "https://localhost:8080/",
          "height": 232
        },
        "id": "NAO-7XyHsQOO",
        "outputId": "7629c9f7-6b8f-45c0-c681-6d15176b08f0"
      },
      "source": [
        "# make class predictions with the model\n",
        "predictions = model.predict_classes(X)\n",
        "# summarize the first 5 cases\n",
        "for i in range(5):\n",
        "\tprint('%s => %d (expected %d)' % (X[i].tolist(), predictions[i], y[i]))\n"
      ],
      "execution_count": 17,
      "outputs": [
        {
          "output_type": "error",
          "ename": "AttributeError",
          "evalue": "ignored",
          "traceback": [
            "\u001b[0;31m---------------------------------------------------------------------------\u001b[0m",
            "\u001b[0;31mAttributeError\u001b[0m                            Traceback (most recent call last)",
            "\u001b[0;32m<ipython-input-17-e0b57a01bd5e>\u001b[0m in \u001b[0;36m<module>\u001b[0;34m()\u001b[0m\n\u001b[1;32m      1\u001b[0m \u001b[0;31m# make class predictions with the model\u001b[0m\u001b[0;34m\u001b[0m\u001b[0;34m\u001b[0m\u001b[0;34m\u001b[0m\u001b[0m\n\u001b[0;32m----> 2\u001b[0;31m \u001b[0mpredictions\u001b[0m \u001b[0;34m=\u001b[0m \u001b[0mmodel\u001b[0m\u001b[0;34m.\u001b[0m\u001b[0mpredict_classes\u001b[0m\u001b[0;34m(\u001b[0m\u001b[0mX\u001b[0m\u001b[0;34m)\u001b[0m\u001b[0;34m\u001b[0m\u001b[0;34m\u001b[0m\u001b[0m\n\u001b[0m\u001b[1;32m      3\u001b[0m \u001b[0;31m# summarize the first 5 cases\u001b[0m\u001b[0;34m\u001b[0m\u001b[0;34m\u001b[0m\u001b[0;34m\u001b[0m\u001b[0m\n\u001b[1;32m      4\u001b[0m \u001b[0;32mfor\u001b[0m \u001b[0mi\u001b[0m \u001b[0;32min\u001b[0m \u001b[0mrange\u001b[0m\u001b[0;34m(\u001b[0m\u001b[0;36m5\u001b[0m\u001b[0;34m)\u001b[0m\u001b[0;34m:\u001b[0m\u001b[0;34m\u001b[0m\u001b[0;34m\u001b[0m\u001b[0m\n\u001b[1;32m      5\u001b[0m         \u001b[0mprint\u001b[0m\u001b[0;34m(\u001b[0m\u001b[0;34m'%s => %d (expected %d)'\u001b[0m \u001b[0;34m%\u001b[0m \u001b[0;34m(\u001b[0m\u001b[0mX\u001b[0m\u001b[0;34m[\u001b[0m\u001b[0mi\u001b[0m\u001b[0;34m]\u001b[0m\u001b[0;34m.\u001b[0m\u001b[0mtolist\u001b[0m\u001b[0;34m(\u001b[0m\u001b[0;34m)\u001b[0m\u001b[0;34m,\u001b[0m \u001b[0mpredictions\u001b[0m\u001b[0;34m[\u001b[0m\u001b[0mi\u001b[0m\u001b[0;34m]\u001b[0m\u001b[0;34m,\u001b[0m \u001b[0my\u001b[0m\u001b[0;34m[\u001b[0m\u001b[0mi\u001b[0m\u001b[0;34m]\u001b[0m\u001b[0;34m)\u001b[0m\u001b[0;34m)\u001b[0m\u001b[0;34m\u001b[0m\u001b[0;34m\u001b[0m\u001b[0m\n",
            "\u001b[0;31mAttributeError\u001b[0m: 'Sequential' object has no attribute 'predict_classes'"
          ]
        }
      ]
    },
    {
      "cell_type": "code",
      "metadata": {
        "execution": {
          "iopub.status.busy": "2021-10-05T17:42:04.490899Z",
          "iopub.execute_input": "2021-10-05T17:42:04.491210Z",
          "iopub.status.idle": "2021-10-05T17:42:04.654690Z",
          "shell.execute_reply.started": "2021-10-05T17:42:04.491177Z",
          "shell.execute_reply": "2021-10-05T17:42:04.653925Z"
        },
        "trusted": true,
        "id": "l0nT-DZ6sQOO"
      },
      "source": [
        "gc.collect()"
      ],
      "execution_count": null,
      "outputs": []
    },
    {
      "cell_type": "code",
      "metadata": {
        "execution": {
          "iopub.status.busy": "2021-10-05T17:42:07.468296Z",
          "iopub.execute_input": "2021-10-05T17:42:07.469135Z",
          "iopub.status.idle": "2021-10-05T17:43:53.795649Z",
          "shell.execute_reply.started": "2021-10-05T17:42:07.469088Z",
          "shell.execute_reply": "2021-10-05T17:43:53.794840Z"
        },
        "trusted": true,
        "colab": {
          "base_uri": "https://localhost:8080/"
        },
        "id": "QfbZH6jusQOP",
        "outputId": "7150747d-6d03-4fd7-f705-94f5f6888531"
      },
      "source": [
        "predicted = model.predict(test)\n",
        "predicted"
      ],
      "execution_count": 18,
      "outputs": [
        {
          "output_type": "execute_result",
          "data": {
            "text/plain": [
              "array([[ 10.508],\n",
              "       [ 12.167],\n",
              "       [ 13.742],\n",
              "       ...,\n",
              "       [-36.908],\n",
              "       [-36.934],\n",
              "       [-36.959]], dtype=float32)"
            ]
          },
          "metadata": {},
          "execution_count": 18
        }
      ]
    },
    {
      "cell_type": "code",
      "metadata": {
        "execution": {
          "iopub.status.busy": "2021-10-05T17:43:53.798723Z",
          "iopub.execute_input": "2021-10-05T17:43:53.798975Z",
          "iopub.status.idle": "2021-10-05T17:43:53.809566Z",
          "shell.execute_reply.started": "2021-10-05T17:43:53.798945Z",
          "shell.execute_reply": "2021-10-05T17:43:53.808617Z"
        },
        "trusted": true,
        "id": "a0plYvwQsQOP"
      },
      "source": [
        "test_result = test\n",
        "test_result['pressure'] = predicted"
      ],
      "execution_count": 19,
      "outputs": []
    },
    {
      "cell_type": "code",
      "metadata": {
        "execution": {
          "iopub.status.busy": "2021-10-05T18:19:47.178697Z",
          "iopub.execute_input": "2021-10-05T18:19:47.179025Z",
          "iopub.status.idle": "2021-10-05T18:19:47.324868Z",
          "shell.execute_reply.started": "2021-10-05T18:19:47.178947Z",
          "shell.execute_reply": "2021-10-05T18:19:47.323220Z"
        },
        "trusted": true,
        "colab": {
          "base_uri": "https://localhost:8080/",
          "height": 419
        },
        "id": "L8A9Kex7sQOR",
        "outputId": "90e12bad-e277-41cf-acbe-d0f843c2991b"
      },
      "source": [
        "submit_result = test_result[['id','pressure']]\n",
        "submit_result"
      ],
      "execution_count": 20,
      "outputs": [
        {
          "output_type": "execute_result",
          "data": {
            "text/html": [
              "<div>\n",
              "<style scoped>\n",
              "    .dataframe tbody tr th:only-of-type {\n",
              "        vertical-align: middle;\n",
              "    }\n",
              "\n",
              "    .dataframe tbody tr th {\n",
              "        vertical-align: top;\n",
              "    }\n",
              "\n",
              "    .dataframe thead th {\n",
              "        text-align: right;\n",
              "    }\n",
              "</style>\n",
              "<table border=\"1\" class=\"dataframe\">\n",
              "  <thead>\n",
              "    <tr style=\"text-align: right;\">\n",
              "      <th></th>\n",
              "      <th>id</th>\n",
              "      <th>pressure</th>\n",
              "    </tr>\n",
              "  </thead>\n",
              "  <tbody>\n",
              "    <tr>\n",
              "      <th>0</th>\n",
              "      <td>1</td>\n",
              "      <td>10.508467</td>\n",
              "    </tr>\n",
              "    <tr>\n",
              "      <th>1</th>\n",
              "      <td>2</td>\n",
              "      <td>12.167415</td>\n",
              "    </tr>\n",
              "    <tr>\n",
              "      <th>2</th>\n",
              "      <td>3</td>\n",
              "      <td>13.741582</td>\n",
              "    </tr>\n",
              "    <tr>\n",
              "      <th>3</th>\n",
              "      <td>4</td>\n",
              "      <td>15.190825</td>\n",
              "    </tr>\n",
              "    <tr>\n",
              "      <th>4</th>\n",
              "      <td>5</td>\n",
              "      <td>16.306648</td>\n",
              "    </tr>\n",
              "    <tr>\n",
              "      <th>...</th>\n",
              "      <td>...</td>\n",
              "      <td>...</td>\n",
              "    </tr>\n",
              "    <tr>\n",
              "      <th>4023995</th>\n",
              "      <td>4023996</td>\n",
              "      <td>-36.858738</td>\n",
              "    </tr>\n",
              "    <tr>\n",
              "      <th>4023996</th>\n",
              "      <td>4023997</td>\n",
              "      <td>-36.883602</td>\n",
              "    </tr>\n",
              "    <tr>\n",
              "      <th>4023997</th>\n",
              "      <td>4023998</td>\n",
              "      <td>-36.908489</td>\n",
              "    </tr>\n",
              "    <tr>\n",
              "      <th>4023998</th>\n",
              "      <td>4023999</td>\n",
              "      <td>-36.933605</td>\n",
              "    </tr>\n",
              "    <tr>\n",
              "      <th>4023999</th>\n",
              "      <td>4024000</td>\n",
              "      <td>-36.959133</td>\n",
              "    </tr>\n",
              "  </tbody>\n",
              "</table>\n",
              "<p>4024000 rows × 2 columns</p>\n",
              "</div>"
            ],
            "text/plain": [
              "              id   pressure\n",
              "0              1  10.508467\n",
              "1              2  12.167415\n",
              "2              3  13.741582\n",
              "3              4  15.190825\n",
              "4              5  16.306648\n",
              "...          ...        ...\n",
              "4023995  4023996 -36.858738\n",
              "4023996  4023997 -36.883602\n",
              "4023997  4023998 -36.908489\n",
              "4023998  4023999 -36.933605\n",
              "4023999  4024000 -36.959133\n",
              "\n",
              "[4024000 rows x 2 columns]"
            ]
          },
          "metadata": {},
          "execution_count": 20
        }
      ]
    },
    {
      "cell_type": "code",
      "metadata": {
        "execution": {
          "iopub.status.busy": "2021-10-05T17:43:53.811331Z",
          "iopub.execute_input": "2021-10-05T17:43:53.811703Z",
          "iopub.status.idle": "2021-10-05T17:43:53.834569Z",
          "shell.execute_reply.started": "2021-10-05T17:43:53.811666Z",
          "shell.execute_reply": "2021-10-05T17:43:53.833339Z"
        },
        "trusted": true,
        "id": "67x2fy2GsQOS"
      },
      "source": [
        "submit_result.to_csv('/content/drive/MyDrive/Colab Notebooks/Predictive_Data/vantilator_google/submission.csv', index=False)"
      ],
      "execution_count": 21,
      "outputs": []
    }
  ]
}