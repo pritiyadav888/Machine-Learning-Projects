{
  "nbformat": 4,
  "nbformat_minor": 0,
  "metadata": {
    "colab": {
      "name": "diabetes_tutorial.ipynb",
      "provenance": [],
      "authorship_tag": "ABX9TyPEGBwJNu1+JKM8TNAV5nSa",
      "include_colab_link": true
    },
    "kernelspec": {
      "name": "python3",
      "display_name": "Python 3"
    },
    "language_info": {
      "name": "python"
    }
  },
  "cells": [
    {
      "cell_type": "markdown",
      "metadata": {
        "id": "view-in-github",
        "colab_type": "text"
      },
      "source": [
        "<a href=\"https://colab.research.google.com/github/pritiyadav888/Machine-Learning-Projects/blob/main/diabetes_tutorial.ipynb\" target=\"_parent\"><img src=\"https://colab.research.google.com/assets/colab-badge.svg\" alt=\"Open In Colab\"/></a>"
      ]
    },
    {
      "cell_type": "markdown",
      "metadata": {
        "id": "QXCEJ3ITOKmz"
      },
      "source": [
        "## **Data Preprocessing**"
      ]
    },
    {
      "cell_type": "markdown",
      "metadata": {
        "id": "c7YJNXPsOPOX"
      },
      "source": [
        "**Importing Depedencies**"
      ]
    },
    {
      "cell_type": "code",
      "metadata": {
        "id": "wACk5xI6MvY4",
        "colab": {
          "base_uri": "https://localhost:8080/"
        },
        "outputId": "8ef72bda-a3e8-486c-805d-67b526d4550e"
      },
      "source": [
        "from google.colab import drive\n",
        "drive.mount('/content/drive')"
      ],
      "execution_count": 1,
      "outputs": [
        {
          "output_type": "stream",
          "name": "stdout",
          "text": [
            "Mounted at /content/drive\n"
          ]
        }
      ]
    },
    {
      "cell_type": "code",
      "metadata": {
        "id": "12aPZ61cOzAv"
      },
      "source": [
        "import warnings\n",
        "warnings.simplefilter(action='ignore', category=FutureWarning)\n",
        "\n",
        "import pandas as pd\n",
        "import numpy as np\n",
        "import matplotlib.pyplot as plt\n",
        "import seaborn as sns\n",
        "from matplotlib import rcParams"
      ],
      "execution_count": 2,
      "outputs": []
    },
    {
      "cell_type": "markdown",
      "metadata": {
        "id": "MP5MUAU8OJ7l"
      },
      "source": [
        ""
      ]
    },
    {
      "cell_type": "markdown",
      "metadata": {
        "id": "bYa9PL7COXef"
      },
      "source": [
        "**Load the Data**"
      ]
    },
    {
      "cell_type": "code",
      "metadata": {
        "id": "JShiYHTFON3y"
      },
      "source": [
        "data = pd.read_csv(\"/content/drive/MyDrive/Colab Notebooks/Predictive_Data/dataset_diabetes/diabetic_data.csv\")"
      ],
      "execution_count": 3,
      "outputs": []
    },
    {
      "cell_type": "code",
      "metadata": {
        "id": "8gVJujDjO39g",
        "colab": {
          "base_uri": "https://localhost:8080/"
        },
        "outputId": "32165657-26cb-433f-a8ed-06be67f655a9"
      },
      "source": [
        "data.info()"
      ],
      "execution_count": 4,
      "outputs": [
        {
          "output_type": "stream",
          "name": "stdout",
          "text": [
            "<class 'pandas.core.frame.DataFrame'>\n",
            "RangeIndex: 101766 entries, 0 to 101765\n",
            "Data columns (total 50 columns):\n",
            " #   Column                    Non-Null Count   Dtype \n",
            "---  ------                    --------------   ----- \n",
            " 0   encounter_id              101766 non-null  int64 \n",
            " 1   patient_nbr               101766 non-null  int64 \n",
            " 2   race                      101766 non-null  object\n",
            " 3   gender                    101766 non-null  object\n",
            " 4   age                       101766 non-null  object\n",
            " 5   weight                    101766 non-null  object\n",
            " 6   admission_type_id         101766 non-null  int64 \n",
            " 7   discharge_disposition_id  101766 non-null  int64 \n",
            " 8   admission_source_id       101766 non-null  int64 \n",
            " 9   time_in_hospital          101766 non-null  int64 \n",
            " 10  payer_code                101766 non-null  object\n",
            " 11  medical_specialty         101766 non-null  object\n",
            " 12  num_lab_procedures        101766 non-null  int64 \n",
            " 13  num_procedures            101766 non-null  int64 \n",
            " 14  num_medications           101766 non-null  int64 \n",
            " 15  number_outpatient         101766 non-null  int64 \n",
            " 16  number_emergency          101766 non-null  int64 \n",
            " 17  number_inpatient          101766 non-null  int64 \n",
            " 18  diag_1                    101766 non-null  object\n",
            " 19  diag_2                    101766 non-null  object\n",
            " 20  diag_3                    101766 non-null  object\n",
            " 21  number_diagnoses          101766 non-null  int64 \n",
            " 22  max_glu_serum             101766 non-null  object\n",
            " 23  A1Cresult                 101766 non-null  object\n",
            " 24  metformin                 101766 non-null  object\n",
            " 25  repaglinide               101766 non-null  object\n",
            " 26  nateglinide               101766 non-null  object\n",
            " 27  chlorpropamide            101766 non-null  object\n",
            " 28  glimepiride               101766 non-null  object\n",
            " 29  acetohexamide             101766 non-null  object\n",
            " 30  glipizide                 101766 non-null  object\n",
            " 31  glyburide                 101766 non-null  object\n",
            " 32  tolbutamide               101766 non-null  object\n",
            " 33  pioglitazone              101766 non-null  object\n",
            " 34  rosiglitazone             101766 non-null  object\n",
            " 35  acarbose                  101766 non-null  object\n",
            " 36  miglitol                  101766 non-null  object\n",
            " 37  troglitazone              101766 non-null  object\n",
            " 38  tolazamide                101766 non-null  object\n",
            " 39  examide                   101766 non-null  object\n",
            " 40  citoglipton               101766 non-null  object\n",
            " 41  insulin                   101766 non-null  object\n",
            " 42  glyburide-metformin       101766 non-null  object\n",
            " 43  glipizide-metformin       101766 non-null  object\n",
            " 44  glimepiride-pioglitazone  101766 non-null  object\n",
            " 45  metformin-rosiglitazone   101766 non-null  object\n",
            " 46  metformin-pioglitazone    101766 non-null  object\n",
            " 47  change                    101766 non-null  object\n",
            " 48  diabetesMed               101766 non-null  object\n",
            " 49  readmitted                101766 non-null  object\n",
            "dtypes: int64(13), object(37)\n",
            "memory usage: 38.8+ MB\n"
          ]
        }
      ]
    },
    {
      "cell_type": "code",
      "metadata": {
        "id": "3Q9r4Az2PAaH",
        "colab": {
          "base_uri": "https://localhost:8080/",
          "height": 326
        },
        "outputId": "dbb3f093-6137-47cd-9c5e-4dda885bac72"
      },
      "source": [
        "data.head()"
      ],
      "execution_count": 5,
      "outputs": [
        {
          "output_type": "execute_result",
          "data": {
            "text/html": [
              "<div>\n",
              "<style scoped>\n",
              "    .dataframe tbody tr th:only-of-type {\n",
              "        vertical-align: middle;\n",
              "    }\n",
              "\n",
              "    .dataframe tbody tr th {\n",
              "        vertical-align: top;\n",
              "    }\n",
              "\n",
              "    .dataframe thead th {\n",
              "        text-align: right;\n",
              "    }\n",
              "</style>\n",
              "<table border=\"1\" class=\"dataframe\">\n",
              "  <thead>\n",
              "    <tr style=\"text-align: right;\">\n",
              "      <th></th>\n",
              "      <th>encounter_id</th>\n",
              "      <th>patient_nbr</th>\n",
              "      <th>race</th>\n",
              "      <th>gender</th>\n",
              "      <th>age</th>\n",
              "      <th>weight</th>\n",
              "      <th>admission_type_id</th>\n",
              "      <th>discharge_disposition_id</th>\n",
              "      <th>admission_source_id</th>\n",
              "      <th>time_in_hospital</th>\n",
              "      <th>payer_code</th>\n",
              "      <th>medical_specialty</th>\n",
              "      <th>num_lab_procedures</th>\n",
              "      <th>num_procedures</th>\n",
              "      <th>num_medications</th>\n",
              "      <th>number_outpatient</th>\n",
              "      <th>number_emergency</th>\n",
              "      <th>number_inpatient</th>\n",
              "      <th>diag_1</th>\n",
              "      <th>diag_2</th>\n",
              "      <th>diag_3</th>\n",
              "      <th>number_diagnoses</th>\n",
              "      <th>max_glu_serum</th>\n",
              "      <th>A1Cresult</th>\n",
              "      <th>metformin</th>\n",
              "      <th>repaglinide</th>\n",
              "      <th>nateglinide</th>\n",
              "      <th>chlorpropamide</th>\n",
              "      <th>glimepiride</th>\n",
              "      <th>acetohexamide</th>\n",
              "      <th>glipizide</th>\n",
              "      <th>glyburide</th>\n",
              "      <th>tolbutamide</th>\n",
              "      <th>pioglitazone</th>\n",
              "      <th>rosiglitazone</th>\n",
              "      <th>acarbose</th>\n",
              "      <th>miglitol</th>\n",
              "      <th>troglitazone</th>\n",
              "      <th>tolazamide</th>\n",
              "      <th>examide</th>\n",
              "      <th>citoglipton</th>\n",
              "      <th>insulin</th>\n",
              "      <th>glyburide-metformin</th>\n",
              "      <th>glipizide-metformin</th>\n",
              "      <th>glimepiride-pioglitazone</th>\n",
              "      <th>metformin-rosiglitazone</th>\n",
              "      <th>metformin-pioglitazone</th>\n",
              "      <th>change</th>\n",
              "      <th>diabetesMed</th>\n",
              "      <th>readmitted</th>\n",
              "    </tr>\n",
              "  </thead>\n",
              "  <tbody>\n",
              "    <tr>\n",
              "      <th>0</th>\n",
              "      <td>2278392</td>\n",
              "      <td>8222157</td>\n",
              "      <td>Caucasian</td>\n",
              "      <td>Female</td>\n",
              "      <td>[0-10)</td>\n",
              "      <td>?</td>\n",
              "      <td>6</td>\n",
              "      <td>25</td>\n",
              "      <td>1</td>\n",
              "      <td>1</td>\n",
              "      <td>?</td>\n",
              "      <td>Pediatrics-Endocrinology</td>\n",
              "      <td>41</td>\n",
              "      <td>0</td>\n",
              "      <td>1</td>\n",
              "      <td>0</td>\n",
              "      <td>0</td>\n",
              "      <td>0</td>\n",
              "      <td>250.83</td>\n",
              "      <td>?</td>\n",
              "      <td>?</td>\n",
              "      <td>1</td>\n",
              "      <td>None</td>\n",
              "      <td>None</td>\n",
              "      <td>No</td>\n",
              "      <td>No</td>\n",
              "      <td>No</td>\n",
              "      <td>No</td>\n",
              "      <td>No</td>\n",
              "      <td>No</td>\n",
              "      <td>No</td>\n",
              "      <td>No</td>\n",
              "      <td>No</td>\n",
              "      <td>No</td>\n",
              "      <td>No</td>\n",
              "      <td>No</td>\n",
              "      <td>No</td>\n",
              "      <td>No</td>\n",
              "      <td>No</td>\n",
              "      <td>No</td>\n",
              "      <td>No</td>\n",
              "      <td>No</td>\n",
              "      <td>No</td>\n",
              "      <td>No</td>\n",
              "      <td>No</td>\n",
              "      <td>No</td>\n",
              "      <td>No</td>\n",
              "      <td>No</td>\n",
              "      <td>No</td>\n",
              "      <td>NO</td>\n",
              "    </tr>\n",
              "    <tr>\n",
              "      <th>1</th>\n",
              "      <td>149190</td>\n",
              "      <td>55629189</td>\n",
              "      <td>Caucasian</td>\n",
              "      <td>Female</td>\n",
              "      <td>[10-20)</td>\n",
              "      <td>?</td>\n",
              "      <td>1</td>\n",
              "      <td>1</td>\n",
              "      <td>7</td>\n",
              "      <td>3</td>\n",
              "      <td>?</td>\n",
              "      <td>?</td>\n",
              "      <td>59</td>\n",
              "      <td>0</td>\n",
              "      <td>18</td>\n",
              "      <td>0</td>\n",
              "      <td>0</td>\n",
              "      <td>0</td>\n",
              "      <td>276</td>\n",
              "      <td>250.01</td>\n",
              "      <td>255</td>\n",
              "      <td>9</td>\n",
              "      <td>None</td>\n",
              "      <td>None</td>\n",
              "      <td>No</td>\n",
              "      <td>No</td>\n",
              "      <td>No</td>\n",
              "      <td>No</td>\n",
              "      <td>No</td>\n",
              "      <td>No</td>\n",
              "      <td>No</td>\n",
              "      <td>No</td>\n",
              "      <td>No</td>\n",
              "      <td>No</td>\n",
              "      <td>No</td>\n",
              "      <td>No</td>\n",
              "      <td>No</td>\n",
              "      <td>No</td>\n",
              "      <td>No</td>\n",
              "      <td>No</td>\n",
              "      <td>No</td>\n",
              "      <td>Up</td>\n",
              "      <td>No</td>\n",
              "      <td>No</td>\n",
              "      <td>No</td>\n",
              "      <td>No</td>\n",
              "      <td>No</td>\n",
              "      <td>Ch</td>\n",
              "      <td>Yes</td>\n",
              "      <td>&gt;30</td>\n",
              "    </tr>\n",
              "    <tr>\n",
              "      <th>2</th>\n",
              "      <td>64410</td>\n",
              "      <td>86047875</td>\n",
              "      <td>AfricanAmerican</td>\n",
              "      <td>Female</td>\n",
              "      <td>[20-30)</td>\n",
              "      <td>?</td>\n",
              "      <td>1</td>\n",
              "      <td>1</td>\n",
              "      <td>7</td>\n",
              "      <td>2</td>\n",
              "      <td>?</td>\n",
              "      <td>?</td>\n",
              "      <td>11</td>\n",
              "      <td>5</td>\n",
              "      <td>13</td>\n",
              "      <td>2</td>\n",
              "      <td>0</td>\n",
              "      <td>1</td>\n",
              "      <td>648</td>\n",
              "      <td>250</td>\n",
              "      <td>V27</td>\n",
              "      <td>6</td>\n",
              "      <td>None</td>\n",
              "      <td>None</td>\n",
              "      <td>No</td>\n",
              "      <td>No</td>\n",
              "      <td>No</td>\n",
              "      <td>No</td>\n",
              "      <td>No</td>\n",
              "      <td>No</td>\n",
              "      <td>Steady</td>\n",
              "      <td>No</td>\n",
              "      <td>No</td>\n",
              "      <td>No</td>\n",
              "      <td>No</td>\n",
              "      <td>No</td>\n",
              "      <td>No</td>\n",
              "      <td>No</td>\n",
              "      <td>No</td>\n",
              "      <td>No</td>\n",
              "      <td>No</td>\n",
              "      <td>No</td>\n",
              "      <td>No</td>\n",
              "      <td>No</td>\n",
              "      <td>No</td>\n",
              "      <td>No</td>\n",
              "      <td>No</td>\n",
              "      <td>No</td>\n",
              "      <td>Yes</td>\n",
              "      <td>NO</td>\n",
              "    </tr>\n",
              "    <tr>\n",
              "      <th>3</th>\n",
              "      <td>500364</td>\n",
              "      <td>82442376</td>\n",
              "      <td>Caucasian</td>\n",
              "      <td>Male</td>\n",
              "      <td>[30-40)</td>\n",
              "      <td>?</td>\n",
              "      <td>1</td>\n",
              "      <td>1</td>\n",
              "      <td>7</td>\n",
              "      <td>2</td>\n",
              "      <td>?</td>\n",
              "      <td>?</td>\n",
              "      <td>44</td>\n",
              "      <td>1</td>\n",
              "      <td>16</td>\n",
              "      <td>0</td>\n",
              "      <td>0</td>\n",
              "      <td>0</td>\n",
              "      <td>8</td>\n",
              "      <td>250.43</td>\n",
              "      <td>403</td>\n",
              "      <td>7</td>\n",
              "      <td>None</td>\n",
              "      <td>None</td>\n",
              "      <td>No</td>\n",
              "      <td>No</td>\n",
              "      <td>No</td>\n",
              "      <td>No</td>\n",
              "      <td>No</td>\n",
              "      <td>No</td>\n",
              "      <td>No</td>\n",
              "      <td>No</td>\n",
              "      <td>No</td>\n",
              "      <td>No</td>\n",
              "      <td>No</td>\n",
              "      <td>No</td>\n",
              "      <td>No</td>\n",
              "      <td>No</td>\n",
              "      <td>No</td>\n",
              "      <td>No</td>\n",
              "      <td>No</td>\n",
              "      <td>Up</td>\n",
              "      <td>No</td>\n",
              "      <td>No</td>\n",
              "      <td>No</td>\n",
              "      <td>No</td>\n",
              "      <td>No</td>\n",
              "      <td>Ch</td>\n",
              "      <td>Yes</td>\n",
              "      <td>NO</td>\n",
              "    </tr>\n",
              "    <tr>\n",
              "      <th>4</th>\n",
              "      <td>16680</td>\n",
              "      <td>42519267</td>\n",
              "      <td>Caucasian</td>\n",
              "      <td>Male</td>\n",
              "      <td>[40-50)</td>\n",
              "      <td>?</td>\n",
              "      <td>1</td>\n",
              "      <td>1</td>\n",
              "      <td>7</td>\n",
              "      <td>1</td>\n",
              "      <td>?</td>\n",
              "      <td>?</td>\n",
              "      <td>51</td>\n",
              "      <td>0</td>\n",
              "      <td>8</td>\n",
              "      <td>0</td>\n",
              "      <td>0</td>\n",
              "      <td>0</td>\n",
              "      <td>197</td>\n",
              "      <td>157</td>\n",
              "      <td>250</td>\n",
              "      <td>5</td>\n",
              "      <td>None</td>\n",
              "      <td>None</td>\n",
              "      <td>No</td>\n",
              "      <td>No</td>\n",
              "      <td>No</td>\n",
              "      <td>No</td>\n",
              "      <td>No</td>\n",
              "      <td>No</td>\n",
              "      <td>Steady</td>\n",
              "      <td>No</td>\n",
              "      <td>No</td>\n",
              "      <td>No</td>\n",
              "      <td>No</td>\n",
              "      <td>No</td>\n",
              "      <td>No</td>\n",
              "      <td>No</td>\n",
              "      <td>No</td>\n",
              "      <td>No</td>\n",
              "      <td>No</td>\n",
              "      <td>Steady</td>\n",
              "      <td>No</td>\n",
              "      <td>No</td>\n",
              "      <td>No</td>\n",
              "      <td>No</td>\n",
              "      <td>No</td>\n",
              "      <td>Ch</td>\n",
              "      <td>Yes</td>\n",
              "      <td>NO</td>\n",
              "    </tr>\n",
              "  </tbody>\n",
              "</table>\n",
              "</div>"
            ],
            "text/plain": [
              "   encounter_id  patient_nbr             race  ... change diabetesMed readmitted\n",
              "0       2278392      8222157        Caucasian  ...     No          No         NO\n",
              "1        149190     55629189        Caucasian  ...     Ch         Yes        >30\n",
              "2         64410     86047875  AfricanAmerican  ...     No         Yes         NO\n",
              "3        500364     82442376        Caucasian  ...     Ch         Yes         NO\n",
              "4         16680     42519267        Caucasian  ...     Ch         Yes         NO\n",
              "\n",
              "[5 rows x 50 columns]"
            ]
          },
          "metadata": {},
          "execution_count": 5
        }
      ]
    },
    {
      "cell_type": "code",
      "metadata": {
        "id": "HfXHNV_kPDbV",
        "colab": {
          "base_uri": "https://localhost:8080/"
        },
        "outputId": "d8101e50-f73d-4bfb-de79-76f08e9f5f56"
      },
      "source": [
        "data.shape"
      ],
      "execution_count": 6,
      "outputs": [
        {
          "output_type": "execute_result",
          "data": {
            "text/plain": [
              "(101766, 50)"
            ]
          },
          "metadata": {},
          "execution_count": 6
        }
      ]
    },
    {
      "cell_type": "code",
      "metadata": {
        "id": "qQfR7OntUC57"
      },
      "source": [
        "data['admission_type_id'] = data['admission_type_id'].astype(str)"
      ],
      "execution_count": 7,
      "outputs": []
    },
    {
      "cell_type": "markdown",
      "metadata": {
        "id": "A7P_o65VPfGy"
      },
      "source": [
        "Our dataset has 101,766 rows and 50 columns. Each row represents a unique hospital admission. Columns represent patient demographics, medical details, and admission-specific information such as length of stay (time_in_hospital). We can see a list of all columns by applying .columns to our dataframe."
      ]
    },
    {
      "cell_type": "code",
      "metadata": {
        "id": "_8uE2VVsPUdh",
        "colab": {
          "base_uri": "https://localhost:8080/"
        },
        "outputId": "7b018649-92be-43c8-a5d6-8590e425ef65"
      },
      "source": [
        "print(f\"Columns: {data.columns.tolist()}\")"
      ],
      "execution_count": 8,
      "outputs": [
        {
          "output_type": "stream",
          "name": "stdout",
          "text": [
            "Columns: ['encounter_id', 'patient_nbr', 'race', 'gender', 'age', 'weight', 'admission_type_id', 'discharge_disposition_id', 'admission_source_id', 'time_in_hospital', 'payer_code', 'medical_specialty', 'num_lab_procedures', 'num_procedures', 'num_medications', 'number_outpatient', 'number_emergency', 'number_inpatient', 'diag_1', 'diag_2', 'diag_3', 'number_diagnoses', 'max_glu_serum', 'A1Cresult', 'metformin', 'repaglinide', 'nateglinide', 'chlorpropamide', 'glimepiride', 'acetohexamide', 'glipizide', 'glyburide', 'tolbutamide', 'pioglitazone', 'rosiglitazone', 'acarbose', 'miglitol', 'troglitazone', 'tolazamide', 'examide', 'citoglipton', 'insulin', 'glyburide-metformin', 'glipizide-metformin', 'glimepiride-pioglitazone', 'metformin-rosiglitazone', 'metformin-pioglitazone', 'change', 'diabetesMed', 'readmitted']\n"
          ]
        }
      ]
    },
    {
      "cell_type": "markdown",
      "metadata": {
        "id": "p7QsJv7jP7ec"
      },
      "source": [
        "Looking at the columns, we can see that a large proportion are medication names. Let’s store these column names as a separate list, which we’ll get back to in a bit."
      ]
    },
    {
      "cell_type": "code",
      "metadata": {
        "id": "8SsbSgXPP8RZ",
        "colab": {
          "base_uri": "https://localhost:8080/"
        },
        "outputId": "b509cf9b-6201-4127-daa1-df03239fa38a"
      },
      "source": [
        "medications = ['metformin', 'repaglinide', 'nateglinide', 'chlorpropamide', 'glimepiride',\n",
        "    'acetohexamide', 'glipizide', 'glyburide', 'tolbutamide', 'pioglitazone',\n",
        "    'rosiglitazone', 'acarbose', 'miglitol', 'troglitazone', 'tolazamide',\n",
        "    'examide', 'citoglipton', 'insulin', 'glyburide-metformin', 'glipizide-metformin',\n",
        "    'glimepiride-pioglitazone', 'metformin-rosiglitazone', 'metformin-pioglitazone']\n",
        "\n",
        "print(f\"There are {len(medications)} medications represented as columns in the dataset.\")"
      ],
      "execution_count": 9,
      "outputs": [
        {
          "output_type": "stream",
          "name": "stdout",
          "text": [
            "There are 23 medications represented as columns in the dataset.\n"
          ]
        }
      ]
    },
    {
      "cell_type": "markdown",
      "metadata": {
        "id": "0Ht2zjKWRFvp"
      },
      "source": [
        "How many hospital admissions and unique patients are in the dataset?"
      ]
    },
    {
      "cell_type": "code",
      "metadata": {
        "id": "NOX9RgRmRBnw",
        "colab": {
          "base_uri": "https://localhost:8080/"
        },
        "outputId": "76836faf-29ad-4b5d-a058-52369ce292ec"
      },
      "source": [
        "n_admissions = data['encounter_id'].nunique()\n",
        "n_patients = data['patient_nbr'].nunique()\n",
        "\n",
        "print(f\"Number of hospital admissions: {n_admissions:,}\")\n",
        "print(f\"Number of unique patients: {n_patients:,}\")"
      ],
      "execution_count": 10,
      "outputs": [
        {
          "output_type": "stream",
          "name": "stdout",
          "text": [
            "Number of hospital admissions: 101,766\n",
            "Number of unique patients: 71,518\n"
          ]
        }
      ]
    },
    {
      "cell_type": "markdown",
      "metadata": {
        "id": "MgIdmRDQRQ4B"
      },
      "source": [
        "How many patients have had more than one hospital admission?"
      ]
    },
    {
      "cell_type": "code",
      "metadata": {
        "id": "RJZqSt5nRRW3"
      },
      "source": [
        "admissions_per_patient = data['patient_nbr'].value_counts().reset_index()\n",
        "admissions_per_patient.columns = ['patient_nbr', 'count']\n",
        "multiple_admissions = admissions_per_patient[admissions_per_patient['count'] > 1]"
      ],
      "execution_count": 11,
      "outputs": []
    },
    {
      "cell_type": "code",
      "metadata": {
        "id": "1LShLDxlRUdJ",
        "colab": {
          "base_uri": "https://localhost:8080/"
        },
        "outputId": "c62473e9-5ac8-4f90-e148-60f0d0194ffa"
      },
      "source": [
        "print(f\"Proportion of patients that have multiple admissions: {multiple_admissions['patient_nbr'].nunique()/n_patients:.2%}\")\n",
        "print(f\"Maximum number of admissions for a given patient: {multiple_admissions['count'].max()}\")"
      ],
      "execution_count": 12,
      "outputs": [
        {
          "output_type": "stream",
          "name": "stdout",
          "text": [
            "Proportion of patients that have multiple admissions: 23.45%\n",
            "Maximum number of admissions for a given patient: 40\n"
          ]
        }
      ]
    },
    {
      "cell_type": "markdown",
      "metadata": {
        "id": "SvYbhqOYRgGE"
      },
      "source": [
        "**Data Cleaning**"
      ]
    },
    {
      "cell_type": "code",
      "metadata": {
        "id": "5Yy5aZmIRY0R",
        "colab": {
          "base_uri": "https://localhost:8080/"
        },
        "outputId": "47c0e2ae-772e-4bbb-bdb9-b4d01d161266"
      },
      "source": [
        "admission_type = pd.read_csv(\"/content/drive/MyDrive/Colab Notebooks/Predictive_Data/dataset_diabetes/IDs_mapping.csv\")\n",
        "admission_type.dtypes"
      ],
      "execution_count": 13,
      "outputs": [
        {
          "output_type": "execute_result",
          "data": {
            "text/plain": [
              "admission_type_id    object\n",
              "description          object\n",
              "dtype: object"
            ]
          },
          "metadata": {},
          "execution_count": 13
        }
      ]
    },
    {
      "cell_type": "code",
      "metadata": {
        "id": "5wb5Mh6-RxYD"
      },
      "source": [
        "missing_values = ['nan', 'Not Available', 'Not Mapped']\n",
        "admission_type['description'] = admission_type['description'].replace(missing_values, np.nan)"
      ],
      "execution_count": 14,
      "outputs": []
    },
    {
      "cell_type": "code",
      "metadata": {
        "id": "JFJ0RapaSAGu"
      },
      "source": [
        "admission_type.columns = ['admission_type_id', 'admission_type']"
      ],
      "execution_count": 15,
      "outputs": []
    },
    {
      "cell_type": "code",
      "metadata": {
        "id": "7l2YK1N7SCC8"
      },
      "source": [
        "data = data.merge(admission_type, on='admission_type_id')"
      ],
      "execution_count": 16,
      "outputs": []
    },
    {
      "cell_type": "code",
      "metadata": {
        "id": "28yQSMQeTJpg",
        "colab": {
          "base_uri": "https://localhost:8080/"
        },
        "outputId": "a986d97b-29e9-47dd-b45d-8c0cfe310864"
      },
      "source": [
        "data['admission_type'].value_counts()"
      ],
      "execution_count": 17,
      "outputs": [
        {
          "output_type": "execute_result",
          "data": {
            "text/plain": [
              "Discharged to home                                                      53990\n",
              "Emergency                                                               53990\n",
              " Physician Referral                                                     53990\n",
              "Elective                                                                18869\n",
              "Discharged/transferred to SNF                                           18869\n",
              "HMO Referral                                                            18869\n",
              "Urgent                                                                  18480\n",
              "Clinic Referral                                                         18480\n",
              "Discharged/transferred to another short term hospital                   18480\n",
              "Discharged/transferred to home with home health service                  5291\n",
              " Transfer from another health care facility                              5291\n",
              " Transfer from a Skilled Nursing Facility (SNF)                          4785\n",
              "Discharged/transferred to another type of inpatient care institution     4785\n",
              " Court/Law Enforcement                                                    320\n",
              "Discharged/transferred to home under care of Home IV provider             320\n",
              " Emergency Room                                                            21\n",
              "Left AMA                                                                   21\n",
              "Trauma Center                                                              21\n",
              "Transfer from a hospital                                                   10\n",
              "Discharged/transferred to ICF                                              10\n",
              "Newborn                                                                    10\n",
              "Name: admission_type, dtype: int64"
            ]
          },
          "metadata": {},
          "execution_count": 17
        }
      ]
    },
    {
      "cell_type": "markdown",
      "metadata": {
        "id": "gadDUrZJUf0_"
      },
      "source": [
        "Now that we have a “clean” mapper, we can apply it to our dataset. We can map admission_type_id values in our original dataframe to the descriptors in our admission_type_mapper dictionary."
      ]
    },
    {
      "cell_type": "code",
      "metadata": {
        "id": "Y4YcW4G6UZ5C",
        "colab": {
          "base_uri": "https://localhost:8080/",
          "height": 300
        },
        "outputId": "02161739-ea2f-41c8-efdc-93e1fefd38b7"
      },
      "source": [
        "ax = sns.countplot(x='admission_type', data=data, palette='magma')\n",
        "ax.set_xticklabels(ax.get_xticklabels(), rotation=40, ha=\"right\")\n",
        "plt.tight_layout()\n",
        "plt.xlabel('type of hospital admission')\n",
        "plt.show()"
      ],
      "execution_count": 18,
      "outputs": [
        {
          "output_type": "display_data",
          "data": {
            "image/png": "[encoded data removed]",
            "text/plain": [
              "<Figure size 432x288 with 1 Axes>"
            ]
          },
          "metadata": {
            "needs_background": "light"
          }
        }
      ]
    },
    {
      "cell_type": "markdown",
      "metadata": {
        "id": "stj5M3t7V128"
      },
      "source": [
        "Decoding Discharge Location"
      ]
    },
    {
      "cell_type": "code",
      "metadata": {
        "id": "rx6vvDYOVwVc",
        "colab": {
          "base_uri": "https://localhost:8080/",
          "height": 204
        },
        "outputId": "c521eeff-b886-448d-902b-94777fd656a2"
      },
      "source": [
        "discharge_disposition = pd.read_csv(\"https://s3.us-east-2.amazonaws.com/explore.datasets/diabetes/id_mappers/discharge_disposition_id.csv\")\n",
        "discharge_disposition.sample(n=5, random_state=416)"
      ],
      "execution_count": 19,
      "outputs": [
        {
          "output_type": "execute_result",
          "data": {
            "text/html": [
              "<div>\n",
              "<style scoped>\n",
              "    .dataframe tbody tr th:only-of-type {\n",
              "        vertical-align: middle;\n",
              "    }\n",
              "\n",
              "    .dataframe tbody tr th {\n",
              "        vertical-align: top;\n",
              "    }\n",
              "\n",
              "    .dataframe thead th {\n",
              "        text-align: right;\n",
              "    }\n",
              "</style>\n",
              "<table border=\"1\" class=\"dataframe\">\n",
              "  <thead>\n",
              "    <tr style=\"text-align: right;\">\n",
              "      <th></th>\n",
              "      <th>discharge_disposition_id</th>\n",
              "      <th>description</th>\n",
              "    </tr>\n",
              "  </thead>\n",
              "  <tbody>\n",
              "    <tr>\n",
              "      <th>13</th>\n",
              "      <td>14</td>\n",
              "      <td>Hospice / medical facility</td>\n",
              "    </tr>\n",
              "    <tr>\n",
              "      <th>8</th>\n",
              "      <td>9</td>\n",
              "      <td>Admitted as an inpatient to this hospital</td>\n",
              "    </tr>\n",
              "    <tr>\n",
              "      <th>14</th>\n",
              "      <td>15</td>\n",
              "      <td>Discharged/transferred within this institution...</td>\n",
              "    </tr>\n",
              "    <tr>\n",
              "      <th>20</th>\n",
              "      <td>21</td>\n",
              "      <td>Expired, place unknown. Medicaid only, hospice.</td>\n",
              "    </tr>\n",
              "    <tr>\n",
              "      <th>29</th>\n",
              "      <td>29</td>\n",
              "      <td>Discharged/transferred to a Critical Access Ho...</td>\n",
              "    </tr>\n",
              "  </tbody>\n",
              "</table>\n",
              "</div>"
            ],
            "text/plain": [
              "    discharge_disposition_id                                        description\n",
              "13                        14                         Hospice / medical facility\n",
              "8                          9          Admitted as an inpatient to this hospital\n",
              "14                        15  Discharged/transferred within this institution...\n",
              "20                        21    Expired, place unknown. Medicaid only, hospice.\n",
              "29                        29  Discharged/transferred to a Critical Access Ho..."
            ]
          },
          "metadata": {},
          "execution_count": 19
        }
      ]
    },
    {
      "cell_type": "code",
      "metadata": {
        "id": "4J6oHhcqWF1l"
      },
      "source": [
        "discharge_disposition['expired'] = discharge_disposition['description'].str.lower().str.contains('expired')"
      ],
      "execution_count": 20,
      "outputs": []
    },
    {
      "cell_type": "code",
      "metadata": {
        "id": "0OZTZ6k1W_zb",
        "colab": {
          "base_uri": "https://localhost:8080/",
          "height": 173
        },
        "outputId": "1dddc005-6293-421a-beb2-027f541184b2"
      },
      "source": [
        "discharge_expired = discharge_disposition[discharge_disposition['expired']==True]\n",
        "discharge_expired"
      ],
      "execution_count": 21,
      "outputs": [
        {
          "output_type": "execute_result",
          "data": {
            "text/html": [
              "<div>\n",
              "<style scoped>\n",
              "    .dataframe tbody tr th:only-of-type {\n",
              "        vertical-align: middle;\n",
              "    }\n",
              "\n",
              "    .dataframe tbody tr th {\n",
              "        vertical-align: top;\n",
              "    }\n",
              "\n",
              "    .dataframe thead th {\n",
              "        text-align: right;\n",
              "    }\n",
              "</style>\n",
              "<table border=\"1\" class=\"dataframe\">\n",
              "  <thead>\n",
              "    <tr style=\"text-align: right;\">\n",
              "      <th></th>\n",
              "      <th>discharge_disposition_id</th>\n",
              "      <th>description</th>\n",
              "      <th>expired</th>\n",
              "    </tr>\n",
              "  </thead>\n",
              "  <tbody>\n",
              "    <tr>\n",
              "      <th>10</th>\n",
              "      <td>11</td>\n",
              "      <td>Expired</td>\n",
              "      <td>True</td>\n",
              "    </tr>\n",
              "    <tr>\n",
              "      <th>18</th>\n",
              "      <td>19</td>\n",
              "      <td>Expired at home. Medicaid only, hospice.</td>\n",
              "      <td>True</td>\n",
              "    </tr>\n",
              "    <tr>\n",
              "      <th>19</th>\n",
              "      <td>20</td>\n",
              "      <td>Expired in a medical facility. Medicaid only, ...</td>\n",
              "      <td>True</td>\n",
              "    </tr>\n",
              "    <tr>\n",
              "      <th>20</th>\n",
              "      <td>21</td>\n",
              "      <td>Expired, place unknown. Medicaid only, hospice.</td>\n",
              "      <td>True</td>\n",
              "    </tr>\n",
              "  </tbody>\n",
              "</table>\n",
              "</div>"
            ],
            "text/plain": [
              "    discharge_disposition_id  ... expired\n",
              "10                        11  ...    True\n",
              "18                        19  ...    True\n",
              "19                        20  ...    True\n",
              "20                        21  ...    True\n",
              "\n",
              "[4 rows x 3 columns]"
            ]
          },
          "metadata": {},
          "execution_count": 21
        }
      ]
    },
    {
      "cell_type": "code",
      "metadata": {
        "id": "KIK6jkidXDRA",
        "colab": {
          "base_uri": "https://localhost:8080/"
        },
        "outputId": "8c7012d9-c37a-418f-fd3a-e9e5e64848a6"
      },
      "source": [
        "expired_ids = discharge_expired['discharge_disposition_id'].tolist()\n",
        "print(f\"discharge_disposition_id's that indicate an expired patient: {expired_ids}\")"
      ],
      "execution_count": 22,
      "outputs": [
        {
          "output_type": "stream",
          "name": "stdout",
          "text": [
            "discharge_disposition_id's that indicate an expired patient: [11, 19, 20, 21]\n"
          ]
        }
      ]
    },
    {
      "cell_type": "code",
      "metadata": {
        "id": "Uj7vLZzuXITH"
      },
      "source": [
        "data = data[~data['discharge_disposition_id'].isin(expired_ids)]"
      ],
      "execution_count": 23,
      "outputs": []
    },
    {
      "cell_type": "code",
      "metadata": {
        "id": "k_SkFiUNXL7i",
        "colab": {
          "base_uri": "https://localhost:8080/"
        },
        "outputId": "54908a2c-1ec9-44d0-8a19-e73b1b4e2e5c"
      },
      "source": [
        "n_patients_nonexpired = data['patient_nbr'].nunique()\n",
        "print(f\"Original number of patients: {n_patients:,}\")\n",
        "print(f\"Number of expired patients: {n_patients-n_patients_nonexpired:,}\")\n",
        "print(f\"After filtering out expired patients: {n_patients_nonexpired:,}\")"
      ],
      "execution_count": 24,
      "outputs": [
        {
          "output_type": "stream",
          "name": "stdout",
          "text": [
            "Original number of patients: 71,518\n",
            "Number of expired patients: 1,079\n",
            "After filtering out expired patients: 70,439\n"
          ]
        }
      ]
    },
    {
      "cell_type": "code",
      "metadata": {
        "id": "4RSb81GEXO4H",
        "colab": {
          "base_uri": "https://localhost:8080/"
        },
        "outputId": "4562fa2f-0788-4a7c-eaa6-be730316d0e0"
      },
      "source": [
        "data[medications[0]].value_counts()"
      ],
      "execution_count": 25,
      "outputs": [
        {
          "output_type": "execute_result",
          "data": {
            "text/plain": [
              "No        240648\n",
              "Steady     54768\n",
              "Up          3201\n",
              "Down        1725\n",
              "Name: metformin, dtype: int64"
            ]
          },
          "metadata": {},
          "execution_count": 25
        }
      ]
    },
    {
      "cell_type": "code",
      "metadata": {
        "id": "WJJh1lS2XSQp"
      },
      "source": [
        "for m in medications:\n",
        "    data[f'{m}_bool'] = np.where(data[m]=='No', 0, 1)\n",
        "    data = data.drop(columns=m)\n"
      ],
      "execution_count": 26,
      "outputs": []
    },
    {
      "cell_type": "code",
      "metadata": {
        "id": "njC8evIEXWNZ"
      },
      "source": [
        "prevalence = []\n",
        "\n",
        "for m in medications:\n",
        "    patient_meds = data.groupby('patient_nbr')[f'{m}_bool'].sum().reset_index()\n",
        "    patient_meds[f'{m}_bool'] = patient_meds[f'{m}_bool'].astype(bool)\n",
        "    n_patients_on_med = patient_meds[f'{m}_bool'].sum()\n",
        "    proportion = n_patients_on_med/n_patients\n",
        "    prevalence.append(proportion)\n"
      ],
      "execution_count": 27,
      "outputs": []
    },
    {
      "cell_type": "code",
      "metadata": {
        "id": "WAjvZkhKXZcz",
        "colab": {
          "base_uri": "https://localhost:8080/",
          "height": 204
        },
        "outputId": "1227e8e0-6e11-47cf-862f-85c8114fd89c"
      },
      "source": [
        "medication_counts = pd.DataFrame({'medication': medications, 'prevalence':prevalence})\n",
        "medication_counts = medication_counts.sort_values(by='prevalence', ascending=False)\n",
        "medication_counts.head()"
      ],
      "execution_count": 28,
      "outputs": [
        {
          "output_type": "execute_result",
          "data": {
            "text/html": [
              "<div>\n",
              "<style scoped>\n",
              "    .dataframe tbody tr th:only-of-type {\n",
              "        vertical-align: middle;\n",
              "    }\n",
              "\n",
              "    .dataframe tbody tr th {\n",
              "        vertical-align: top;\n",
              "    }\n",
              "\n",
              "    .dataframe thead th {\n",
              "        text-align: right;\n",
              "    }\n",
              "</style>\n",
              "<table border=\"1\" class=\"dataframe\">\n",
              "  <thead>\n",
              "    <tr style=\"text-align: right;\">\n",
              "      <th></th>\n",
              "      <th>medication</th>\n",
              "      <th>prevalence</th>\n",
              "    </tr>\n",
              "  </thead>\n",
              "  <tbody>\n",
              "    <tr>\n",
              "      <th>17</th>\n",
              "      <td>insulin</td>\n",
              "      <td>0.543779</td>\n",
              "    </tr>\n",
              "    <tr>\n",
              "      <th>0</th>\n",
              "      <td>metformin</td>\n",
              "      <td>0.229523</td>\n",
              "    </tr>\n",
              "    <tr>\n",
              "      <th>6</th>\n",
              "      <td>glipizide</td>\n",
              "      <td>0.138916</td>\n",
              "    </tr>\n",
              "    <tr>\n",
              "      <th>7</th>\n",
              "      <td>glyburide</td>\n",
              "      <td>0.118851</td>\n",
              "    </tr>\n",
              "    <tr>\n",
              "      <th>9</th>\n",
              "      <td>pioglitazone</td>\n",
              "      <td>0.082525</td>\n",
              "    </tr>\n",
              "  </tbody>\n",
              "</table>\n",
              "</div>"
            ],
            "text/plain": [
              "      medication  prevalence\n",
              "17       insulin    0.543779\n",
              "0      metformin    0.229523\n",
              "6      glipizide    0.138916\n",
              "7      glyburide    0.118851\n",
              "9   pioglitazone    0.082525"
            ]
          },
          "metadata": {},
          "execution_count": 28
        }
      ]
    },
    {
      "cell_type": "code",
      "metadata": {
        "id": "k5W0NLkSXdoG",
        "colab": {
          "base_uri": "https://localhost:8080/",
          "height": 372
        },
        "outputId": "e2ac39fe-3aa5-4339-9b38-a349b6100773"
      },
      "source": [
        "sns.barplot(x='medication', y='prevalence', data=medication_counts.head(10), palette='viridis')\n",
        "plt.xticks(rotation=90)\n",
        "plt.show()"
      ],
      "execution_count": 29,
      "outputs": [
        {
          "output_type": "display_data",
          "data": {
            "image/png": "[encoded data removed]",
            "text/plain": [
              "<Figure size 432x288 with 1 Axes>"
            ]
          },
          "metadata": {
            "needs_background": "light"
          }
        }
      ]
    },
    {
      "cell_type": "code",
      "metadata": {
        "id": "vkiQGXKPXhBu"
      },
      "source": [
        "import json\n",
        "import requests\n",
        "\n",
        "def get_mesh_from_drug_name(drug_name):\n",
        "    drug_name = drug_name.strip()\n",
        "    rxclass_list = []\n",
        "    try:\n",
        "        r = requests.get(f\"https://rxnav.nlm.nih.gov/REST/rxclass/class/byDrugName.json?drugName={drug_name}&relaSource=MESH\")\n",
        "        response = r.json()\n",
        "        all_concepts = response['rxclassDrugInfoList']['rxclassDrugInfo']\n",
        "        for i in all_concepts:\n",
        "            rxclass_list.append(i['rxclassMinConceptItem']['className'])\n",
        "    except:\n",
        "        pass\n",
        "    return list(set(rxclass_list))"
      ],
      "execution_count": 30,
      "outputs": []
    },
    {
      "cell_type": "code",
      "metadata": {
        "id": "xy_TdA9XX1d3"
      },
      "source": [
        "top_ten_meds = medication_counts.head(10)['medication'].tolist()\n",
        "\n",
        "med_mesh_descriptors = dict()\n",
        "for m in top_ten_meds:\n",
        "    med_mesh_descriptors[m] = get_mesh_from_drug_name(m)"
      ],
      "execution_count": 31,
      "outputs": []
    },
    {
      "cell_type": "code",
      "metadata": {
        "id": "IOa-FAc_X5v6",
        "colab": {
          "base_uri": "https://localhost:8080/"
        },
        "outputId": "2732e93b-f095-422c-9b88-af612afca9fe"
      },
      "source": [
        "med_mesh_descriptors"
      ],
      "execution_count": 32,
      "outputs": [
        {
          "output_type": "execute_result",
          "data": {
            "text/plain": [
              "{'glimepiride': ['Anti-Arrhythmia Agents',\n",
              "  'Immunosuppressive Agents',\n",
              "  'Hypoglycemic Agents'],\n",
              " 'glipizide': ['Hypoglycemic Agents'],\n",
              " 'glyburide': ['Hypoglycemic Agents'],\n",
              " 'glyburide-metformin': ['Hypoglycemic Agents'],\n",
              " 'insulin': [],\n",
              " 'metformin': ['Hypoglycemic Agents'],\n",
              " 'nateglinide': ['Hypoglycemic Agents'],\n",
              " 'pioglitazone': ['Hypoglycemic Agents'],\n",
              " 'repaglinide': ['Hypoglycemic Agents'],\n",
              " 'rosiglitazone': ['Hypoglycemic Agents']}"
            ]
          },
          "metadata": {},
          "execution_count": 32
        }
      ]
    },
    {
      "cell_type": "markdown",
      "metadata": {
        "id": "PijIma7_YGMt"
      },
      "source": [
        "Creating a Target Variable"
      ]
    },
    {
      "cell_type": "code",
      "metadata": {
        "id": "d1Sl49d7X8u5",
        "colab": {
          "base_uri": "https://localhost:8080/"
        },
        "outputId": "842f2240-47fc-4fa7-8184-4d737f9cba1a"
      },
      "source": [
        "data['readmitted'].value_counts()"
      ],
      "execution_count": 33,
      "outputs": [
        {
          "output_type": "execute_result",
          "data": {
            "text/plain": [
              "NO     159636\n",
              ">30    106635\n",
              "<30     34071\n",
              "Name: readmitted, dtype: int64"
            ]
          },
          "metadata": {},
          "execution_count": 33
        }
      ]
    },
    {
      "cell_type": "code",
      "metadata": {
        "id": "r0-EFImLYHOF",
        "colab": {
          "base_uri": "https://localhost:8080/"
        },
        "outputId": "132a1a71-2375-4de2-c863-faf69a3729e8"
      },
      "source": [
        "data['readmitted_bool'] = np.where(data['readmitted']=='NO', 0, 1)\n",
        "data['readmitted_bool'].value_counts()"
      ],
      "execution_count": 34,
      "outputs": [
        {
          "output_type": "execute_result",
          "data": {
            "text/plain": [
              "0    159636\n",
              "1    140706\n",
              "Name: readmitted_bool, dtype: int64"
            ]
          },
          "metadata": {},
          "execution_count": 34
        }
      ]
    },
    {
      "cell_type": "markdown",
      "metadata": {
        "id": "QJV3aQRrYN22"
      },
      "source": [
        "**Data Exploration and Visualization**"
      ]
    },
    {
      "cell_type": "markdown",
      "metadata": {
        "id": "XDM-8B5XYR0i"
      },
      "source": [
        "Assessing Missing Values"
      ]
    },
    {
      "cell_type": "code",
      "metadata": {
        "id": "RVXtelknYJ95",
        "colab": {
          "base_uri": "https://localhost:8080/",
          "height": 529
        },
        "outputId": "846ac79f-6912-4f1c-954c-d4338f441c03"
      },
      "source": [
        "import missingno as msno\n",
        "\n",
        "msno.matrix(data)"
      ],
      "execution_count": 35,
      "outputs": [
        {
          "output_type": "execute_result",
          "data": {
            "text/plain": [
              "<matplotlib.axes._subplots.AxesSubplot at 0x7fb6e2989690>"
            ]
          },
          "metadata": {},
          "execution_count": 35
        },
        {
          "output_type": "display_data",
          "data": {
            "image/png": "[encoded data removed]",
            "text/plain": [
              "<Figure size 1800x720 with 2 Axes>"
            ]
          },
          "metadata": {
            "needs_background": "light"
          }
        }
      ]
    },
    {
      "cell_type": "markdown",
      "metadata": {
        "id": "baICxK3hYcFv"
      },
      "source": [
        "Patient Demographics: Age and Gender"
      ]
    },
    {
      "cell_type": "code",
      "metadata": {
        "id": "jpi-cUTZYV-i",
        "colab": {
          "base_uri": "https://localhost:8080/",
          "height": 295
        },
        "outputId": "a7bb0dbf-d21a-44cb-f0ee-40f0c0876c62"
      },
      "source": [
        "plt.figure(figsize=(14,4))\n",
        "plt.subplot(1,2,1)\n",
        "sns.countplot(x='age', data=data, palette='viridis')\n",
        "plt.title(\"Distribution of Age\")\n",
        "\n",
        "plt.subplot(1,2,2)\n",
        "sns.countplot(data['gender'], palette='viridis')\n",
        "plt.title(\"Distribution of Gender\")\n",
        "plt.show()"
      ],
      "execution_count": 36,
      "outputs": [
        {
          "output_type": "display_data",
          "data": {
            "image/png": "[encoded data removed]",
            "text/plain": [
              "<Figure size 1008x288 with 2 Axes>"
            ]
          },
          "metadata": {
            "needs_background": "light"
          }
        }
      ]
    },
    {
      "cell_type": "code",
      "metadata": {
        "id": "o1zYBg4-Yfzo",
        "colab": {
          "base_uri": "https://localhost:8080/"
        },
        "outputId": "cb995396-39c0-45a8-fc20-f762ed9db839"
      },
      "source": [
        "data['gender'].value_counts(normalize=True)"
      ],
      "execution_count": 37,
      "outputs": [
        {
          "output_type": "execute_result",
          "data": {
            "text/plain": [
              "Female             0.537997\n",
              "Male               0.461973\n",
              "Unknown/Invalid    0.000030\n",
              "Name: gender, dtype: float64"
            ]
          },
          "metadata": {},
          "execution_count": 37
        }
      ]
    },
    {
      "cell_type": "markdown",
      "metadata": {
        "id": "GKvzjYWDYm3k"
      },
      "source": [
        "How long were hospital stays for a given admission?"
      ]
    },
    {
      "cell_type": "code",
      "metadata": {
        "id": "qyaZMhMaYi9L",
        "colab": {
          "base_uri": "https://localhost:8080/",
          "height": 404
        },
        "outputId": "2b519095-7ade-4ed4-c9e8-780abcde81a4"
      },
      "source": [
        "plt.figure(figsize=(8,6))\n",
        "sns.countplot(data['time_in_hospital'], palette='viridis')\n",
        "plt.xlabel(\"time in hospital (days)\")\n",
        "plt.title(\"Length of Hospital Stay\")\n",
        "plt.show()"
      ],
      "execution_count": 38,
      "outputs": [
        {
          "output_type": "display_data",
          "data": {
            "image/png": "[encoded data removed]",
            "text/plain": [
              "<Figure size 576x432 with 1 Axes>"
            ]
          },
          "metadata": {
            "needs_background": "light"
          }
        }
      ]
    },
    {
      "cell_type": "code",
      "metadata": {
        "id": "Xlq1g8B5YuN-",
        "colab": {
          "base_uri": "https://localhost:8080/"
        },
        "outputId": "17bf8ae5-5c73-422e-cfc2-1df7cfa0328f"
      },
      "source": [
        "print(f\"Mean time in hospital: {data['time_in_hospital'].mean():.2f}\")"
      ],
      "execution_count": 39,
      "outputs": [
        {
          "output_type": "stream",
          "name": "stdout",
          "text": [
            "Mean time in hospital: 4.39\n"
          ]
        }
      ]
    },
    {
      "cell_type": "code",
      "metadata": {
        "id": "Cs3SaRhfYu44",
        "colab": {
          "base_uri": "https://localhost:8080/",
          "height": 352
        },
        "outputId": "fae892c6-37c8-475a-d837-fc3a372d5a83"
      },
      "source": [
        "plt.figure(figsize=(14,5))\n",
        "\n",
        "plt.subplot(1,2,1)\n",
        "sns.kdeplot(data['num_medications'], shade=True, legend=False)\n",
        "plt.title(f\"Number of Medications, mean: {data['num_medications'].mean():.2f}\", size=14)\n",
        "\n",
        "plt.subplot(1,2,2)\n",
        "sns.kdeplot(data['num_lab_procedures'], shade=True, legend=False)\n",
        "plt.title(f\"Number of Lab Procedures, mean: {data['num_lab_procedures'].mean():.2f}\", size=14)\n",
        "plt.show()"
      ],
      "execution_count": 40,
      "outputs": [
        {
          "output_type": "display_data",
          "data": {
            "image/png": "[encoded data removed]",
            "text/plain": [
              "<Figure size 1008x360 with 2 Axes>"
            ]
          },
          "metadata": {
            "needs_background": "light"
          }
        }
      ]
    },
    {
      "cell_type": "markdown",
      "metadata": {
        "id": "M7pjSzeDY2oC"
      },
      "source": [
        "What was the most common medical specialty?"
      ]
    },
    {
      "cell_type": "code",
      "metadata": {
        "id": "w6f8h9hjYzAh",
        "colab": {
          "base_uri": "https://localhost:8080/",
          "height": 376
        },
        "outputId": "a505f8ed-acf3-4202-e7c5-a020aa3e1a2c"
      },
      "source": [
        "medical_specialties = data['medical_specialty'].value_counts().reset_index()\n",
        "medical_specialties.columns = ['specialty', 'count']\n",
        "medical_specialties['prevalence'] = medical_specialties['count']/len(data)\n",
        "print(f\"There are {data['medical_specialty'].nunique()} medical specialties.\")\n",
        "medical_specialties.head(10)"
      ],
      "execution_count": 41,
      "outputs": [
        {
          "output_type": "stream",
          "name": "stdout",
          "text": [
            "There are 73 medical specialties.\n"
          ]
        },
        {
          "output_type": "execute_result",
          "data": {
            "text/html": [
              "<div>\n",
              "<style scoped>\n",
              "    .dataframe tbody tr th:only-of-type {\n",
              "        vertical-align: middle;\n",
              "    }\n",
              "\n",
              "    .dataframe tbody tr th {\n",
              "        vertical-align: top;\n",
              "    }\n",
              "\n",
              "    .dataframe thead th {\n",
              "        text-align: right;\n",
              "    }\n",
              "</style>\n",
              "<table border=\"1\" class=\"dataframe\">\n",
              "  <thead>\n",
              "    <tr style=\"text-align: right;\">\n",
              "      <th></th>\n",
              "      <th>specialty</th>\n",
              "      <th>count</th>\n",
              "      <th>prevalence</th>\n",
              "    </tr>\n",
              "  </thead>\n",
              "  <tbody>\n",
              "    <tr>\n",
              "      <th>0</th>\n",
              "      <td>?</td>\n",
              "      <td>147387</td>\n",
              "      <td>0.490731</td>\n",
              "    </tr>\n",
              "    <tr>\n",
              "      <th>1</th>\n",
              "      <td>InternalMedicine</td>\n",
              "      <td>42984</td>\n",
              "      <td>0.143117</td>\n",
              "    </tr>\n",
              "    <tr>\n",
              "      <th>2</th>\n",
              "      <td>Emergency/Trauma</td>\n",
              "      <td>22347</td>\n",
              "      <td>0.074405</td>\n",
              "    </tr>\n",
              "    <tr>\n",
              "      <th>3</th>\n",
              "      <td>Family/GeneralPractice</td>\n",
              "      <td>21906</td>\n",
              "      <td>0.072937</td>\n",
              "    </tr>\n",
              "    <tr>\n",
              "      <th>4</th>\n",
              "      <td>Cardiology</td>\n",
              "      <td>15888</td>\n",
              "      <td>0.052900</td>\n",
              "    </tr>\n",
              "    <tr>\n",
              "      <th>5</th>\n",
              "      <td>Surgery-General</td>\n",
              "      <td>9204</td>\n",
              "      <td>0.030645</td>\n",
              "    </tr>\n",
              "    <tr>\n",
              "      <th>6</th>\n",
              "      <td>Nephrology</td>\n",
              "      <td>4632</td>\n",
              "      <td>0.015422</td>\n",
              "    </tr>\n",
              "    <tr>\n",
              "      <th>7</th>\n",
              "      <td>Orthopedics</td>\n",
              "      <td>4182</td>\n",
              "      <td>0.013924</td>\n",
              "    </tr>\n",
              "    <tr>\n",
              "      <th>8</th>\n",
              "      <td>Orthopedics-Reconstructive</td>\n",
              "      <td>3693</td>\n",
              "      <td>0.012296</td>\n",
              "    </tr>\n",
              "    <tr>\n",
              "      <th>9</th>\n",
              "      <td>Radiologist</td>\n",
              "      <td>3387</td>\n",
              "      <td>0.011277</td>\n",
              "    </tr>\n",
              "  </tbody>\n",
              "</table>\n",
              "</div>"
            ],
            "text/plain": [
              "                    specialty   count  prevalence\n",
              "0                           ?  147387    0.490731\n",
              "1            InternalMedicine   42984    0.143117\n",
              "2            Emergency/Trauma   22347    0.074405\n",
              "3      Family/GeneralPractice   21906    0.072937\n",
              "4                  Cardiology   15888    0.052900\n",
              "5             Surgery-General    9204    0.030645\n",
              "6                  Nephrology    4632    0.015422\n",
              "7                 Orthopedics    4182    0.013924\n",
              "8  Orthopedics-Reconstructive    3693    0.012296\n",
              "9                 Radiologist    3387    0.011277"
            ]
          },
          "metadata": {},
          "execution_count": 41
        }
      ]
    },
    {
      "cell_type": "markdown",
      "metadata": {
        "id": "Mb1JXPKBY7ON"
      },
      "source": [
        "What proportion of patients were on diabetes medication during their hospital stay?"
      ]
    },
    {
      "cell_type": "code",
      "metadata": {
        "id": "87jmlro5ZAnA",
        "colab": {
          "base_uri": "https://localhost:8080/"
        },
        "outputId": "2bc0a4d4-3d70-482a-9e31-34d5e2c7c0d9"
      },
      "source": [
        "data['diabetesMed'].value_counts(normalize=True)"
      ],
      "execution_count": 42,
      "outputs": [
        {
          "output_type": "execute_result",
          "data": {
            "text/plain": [
              "Yes    0.77184\n",
              "No     0.22816\n",
              "Name: diabetesMed, dtype: float64"
            ]
          },
          "metadata": {},
          "execution_count": 42
        }
      ]
    },
    {
      "cell_type": "markdown",
      "metadata": {
        "id": "8nXjrlbSZFxr"
      },
      "source": [
        "Do patients have normal A1C levels?"
      ]
    },
    {
      "cell_type": "code",
      "metadata": {
        "id": "YGIa41LTZDPz",
        "colab": {
          "base_uri": "https://localhost:8080/"
        },
        "outputId": "812159ac-298e-4dd6-861a-a36279390566"
      },
      "source": [
        "data['A1Cresult'].value_counts(normalize=True)"
      ],
      "execution_count": 43,
      "outputs": [
        {
          "output_type": "execute_result",
          "data": {
            "text/plain": [
              "None    0.831432\n",
              ">8      0.081417\n",
              "Norm    0.049354\n",
              ">7      0.037797\n",
              "Name: A1Cresult, dtype: float64"
            ]
          },
          "metadata": {},
          "execution_count": 43
        }
      ]
    },
    {
      "cell_type": "code",
      "metadata": {
        "id": "5d5j7Z97ZJvR",
        "colab": {
          "base_uri": "https://localhost:8080/"
        },
        "outputId": "991e6eaa-fa38-4b8b-ee8f-ef150820f62d"
      },
      "source": [
        "print(f\"Proportion of hospital admissions with missing A1C result: {data['A1Cresult'].isna().sum()/len(data):.2%}\")\n",
        "\n"
      ],
      "execution_count": 44,
      "outputs": [
        {
          "output_type": "stream",
          "name": "stdout",
          "text": [
            "Proportion of hospital admissions with missing A1C result: 0.00%\n"
          ]
        }
      ]
    },
    {
      "cell_type": "markdown",
      "metadata": {
        "id": "Nro_U0roZaF5"
      },
      "source": [
        "**Feature Selection and Engineering**"
      ]
    },
    {
      "cell_type": "markdown",
      "metadata": {
        "id": "7Bt29ex4Zdef"
      },
      "source": [
        "One-hot Encoding"
      ]
    },
    {
      "cell_type": "code",
      "metadata": {
        "id": "s0KfNGuXZNit"
      },
      "source": [
        "categorical = ['race', 'admission_type']\n",
        "\n",
        "for c in categorical:\n",
        "    data = pd.concat([data, pd.get_dummies(data[c], prefix=c)], axis=1)\n",
        "    data.drop(columns=c)"
      ],
      "execution_count": 45,
      "outputs": []
    },
    {
      "cell_type": "code",
      "metadata": {
        "id": "kO9XQ3jKZhH8",
        "colab": {
          "base_uri": "https://localhost:8080/"
        },
        "outputId": "558e5b94-2051-4012-9be4-041864db4550"
      },
      "source": [
        "data['age'].value_counts()"
      ],
      "execution_count": 46,
      "outputs": [
        {
          "output_type": "execute_result",
          "data": {
            "text/plain": [
              "[70-80)     76686\n",
              "[60-70)     66555\n",
              "[50-60)     51306\n",
              "[80-90)     50118\n",
              "[40-50)     28878\n",
              "[30-40)     11295\n",
              "[90-100)     8004\n",
              "[20-30)      4950\n",
              "[10-20)      2070\n",
              "[0-10)        480\n",
              "Name: age, dtype: int64"
            ]
          },
          "metadata": {},
          "execution_count": 46
        }
      ]
    },
    {
      "cell_type": "markdown",
      "metadata": {
        "id": "JVVFX80VZoIy"
      },
      "source": [
        "Label Encoding"
      ]
    },
    {
      "cell_type": "code",
      "metadata": {
        "id": "KUa5lV-0ZkDw"
      },
      "source": [
        "from sklearn.preprocessing import LabelEncoder\n",
        "\n",
        "label_encoder = LabelEncoder()\n",
        "\n",
        "data['age_label'] = label_encoder.fit_transform(data['age'])\n",
        "data['gender_bool'] = label_encoder.fit_transform(data['gender'].astype(str))\n"
      ],
      "execution_count": 47,
      "outputs": []
    },
    {
      "cell_type": "markdown",
      "metadata": {
        "id": "TULJaKcaZzr1"
      },
      "source": [
        "**Data Modelling**"
      ]
    },
    {
      "cell_type": "markdown",
      "metadata": {
        "id": "l2eECwg_Z6dz"
      },
      "source": [
        "Defining the X and y Variables"
      ]
    },
    {
      "cell_type": "code",
      "metadata": {
        "id": "zh51m4FrZsfZ"
      },
      "source": [
        "med_features = ['metformin_bool', 'repaglinide_bool',\n",
        "    'nateglinide_bool', 'chlorpropamide_bool', 'glimepiride_bool',\n",
        "    'acetohexamide_bool', 'glipizide_bool', 'glyburide_bool',\n",
        "    'tolbutamide_bool', 'pioglitazone_bool', 'rosiglitazone_bool',\n",
        "    'acarbose_bool', 'miglitol_bool', 'troglitazone_bool',\n",
        "    'tolazamide_bool', 'examide_bool', 'citoglipton_bool', 'insulin_bool',\n",
        "    'glyburide-metformin_bool', 'glipizide-metformin_bool',\n",
        "    'glimepiride-pioglitazone_bool', 'metformin-rosiglitazone_bool',\n",
        "    'metformin-pioglitazone_bool']\n",
        "\n",
        "demographic_features = ['race_AfricanAmerican', 'race_Asian',\n",
        "    'race_Caucasian', 'race_Hispanic', 'race_Other', 'age_label',\n",
        "    'admission_type_Elective', 'admission_type_Newborn',\n",
        "    'admission_type_Trauma Center', 'admission_type_Urgent', 'gender_bool']\n",
        "\n",
        "other_features = ['num_lab_procedures', 'num_procedures',\n",
        "       'num_medications', 'number_outpatient', 'number_emergency',\n",
        "       'number_inpatient', 'number_diagnoses']\n",
        "\n",
        "all_features = med_features + demographic_features + other_features\n",
        "\n",
        "X = data[all_features]\n",
        "y = data['readmitted_bool']"
      ],
      "execution_count": 48,
      "outputs": []
    },
    {
      "cell_type": "code",
      "metadata": {
        "id": "It5QUBULZ-lV"
      },
      "source": [
        "from sklearn.ensemble import RandomForestClassifier"
      ],
      "execution_count": 49,
      "outputs": []
    },
    {
      "cell_type": "code",
      "metadata": {
        "id": "5Y7ISFYgaBo2"
      },
      "source": [
        "# RandomForestClassifier().get_params()\n",
        "from sklearn import svm\n",
        "clf = svm.SVC(kernel='linear',random_state=42)\n",
        "param_grid = {'C': [0.1,1, 10, 100], 'gamma': [1,0.1,0.01,0.001],'kernel': ['rbf', 'poly', 'sigmoid']}"
      ],
      "execution_count": 50,
      "outputs": []
    },
    {
      "cell_type": "markdown",
      "metadata": {
        "id": "cwHUON5eaJhd"
      },
      "source": [
        "Hyperparameter Tuning"
      ]
    },
    {
      "cell_type": "code",
      "metadata": {
        "id": "IiWl05s0aE-K"
      },
      "source": [
        "from sklearn.model_selection import GridSearchCV\n",
        "\n",
        "search_space = {\n",
        "    'n_estimators': [5,10,50],\n",
        "    'max_depth': [3,5,10]\n",
        "}\n",
        "\n",
        "rfc = RandomForestClassifier(random_state=42)"
      ],
      "execution_count": 53,
      "outputs": []
    },
    {
      "cell_type": "code",
      "metadata": {
        "id": "b-0JvwoFaNRO"
      },
      "source": [
        "grid_search = GridSearchCV(rfc, search_space, cv=3)"
      ],
      "execution_count": 54,
      "outputs": []
    },
    {
      "cell_type": "code",
      "metadata": {
        "id": "0sJM1Wh0aP9V",
        "colab": {
          "base_uri": "https://localhost:8080/"
        },
        "outputId": "0f0bce9d-741a-4673-db07-05f449dddc23"
      },
      "source": [
        "grid_search.fit(X, y)"
      ],
      "execution_count": 55,
      "outputs": [
        {
          "output_type": "execute_result",
          "data": {
            "text/plain": [
              "GridSearchCV(cv=3, error_score=nan,\n",
              "             estimator=RandomForestClassifier(bootstrap=True, ccp_alpha=0.0,\n",
              "                                              class_weight=None,\n",
              "                                              criterion='gini', max_depth=None,\n",
              "                                              max_features='auto',\n",
              "                                              max_leaf_nodes=None,\n",
              "                                              max_samples=None,\n",
              "                                              min_impurity_decrease=0.0,\n",
              "                                              min_impurity_split=None,\n",
              "                                              min_samples_leaf=1,\n",
              "                                              min_samples_split=2,\n",
              "                                              min_weight_fraction_leaf=0.0,\n",
              "                                              n_estimators=100, n_jobs=None,\n",
              "                                              oob_score=False, random_state=42,\n",
              "                                              verbose=0, warm_start=False),\n",
              "             iid='deprecated', n_jobs=None,\n",
              "             param_grid={'max_depth': [3, 5, 10], 'n_estimators': [5, 10, 50]},\n",
              "             pre_dispatch='2*n_jobs', refit=True, return_train_score=False,\n",
              "             scoring=None, verbose=0)"
            ]
          },
          "metadata": {},
          "execution_count": 55
        }
      ]
    },
    {
      "cell_type": "code",
      "metadata": {
        "id": "mrRTmB93aSed",
        "colab": {
          "base_uri": "https://localhost:8080/"
        },
        "outputId": "0f0e6963-eddc-4c05-f177-139af28ccb50"
      },
      "source": [
        "print(f\"Optimal hyperparameters: {grid_search.best_params_}\")\n",
        "print(f\"Best score: {grid_search.best_score_:.3f}\")"
      ],
      "execution_count": 56,
      "outputs": [
        {
          "output_type": "stream",
          "name": "stdout",
          "text": [
            "Optimal hyperparameters: {'max_depth': 10, 'n_estimators': 50}\n",
            "Best score: 0.620\n"
          ]
        }
      ]
    },
    {
      "cell_type": "code",
      "metadata": {
        "id": "kAMJYbHDaV76",
        "colab": {
          "base_uri": "https://localhost:8080/",
          "height": 479
        },
        "outputId": "117198c8-355c-43ed-8858-a665e82f339f"
      },
      "source": [
        "results = pd.DataFrame(grid_search.cv_results_).sort_values(by='mean_test_score', ascending=False)\n",
        "results.head()"
      ],
      "execution_count": 57,
      "outputs": [
        {
          "output_type": "execute_result",
          "data": {
            "text/html": [
              "<div>\n",
              "<style scoped>\n",
              "    .dataframe tbody tr th:only-of-type {\n",
              "        vertical-align: middle;\n",
              "    }\n",
              "\n",
              "    .dataframe tbody tr th {\n",
              "        vertical-align: top;\n",
              "    }\n",
              "\n",
              "    .dataframe thead th {\n",
              "        text-align: right;\n",
              "    }\n",
              "</style>\n",
              "<table border=\"1\" class=\"dataframe\">\n",
              "  <thead>\n",
              "    <tr style=\"text-align: right;\">\n",
              "      <th></th>\n",
              "      <th>mean_fit_time</th>\n",
              "      <th>std_fit_time</th>\n",
              "      <th>mean_score_time</th>\n",
              "      <th>std_score_time</th>\n",
              "      <th>param_max_depth</th>\n",
              "      <th>param_n_estimators</th>\n",
              "      <th>params</th>\n",
              "      <th>split0_test_score</th>\n",
              "      <th>split1_test_score</th>\n",
              "      <th>split2_test_score</th>\n",
              "      <th>mean_test_score</th>\n",
              "      <th>std_test_score</th>\n",
              "      <th>rank_test_score</th>\n",
              "    </tr>\n",
              "  </thead>\n",
              "  <tbody>\n",
              "    <tr>\n",
              "      <th>8</th>\n",
              "      <td>6.771274</td>\n",
              "      <td>0.137264</td>\n",
              "      <td>0.542796</td>\n",
              "      <td>0.009113</td>\n",
              "      <td>10</td>\n",
              "      <td>50</td>\n",
              "      <td>{'max_depth': 10, 'n_estimators': 50}</td>\n",
              "      <td>0.609805</td>\n",
              "      <td>0.631890</td>\n",
              "      <td>0.617047</td>\n",
              "      <td>0.619580</td>\n",
              "      <td>0.009192</td>\n",
              "      <td>1</td>\n",
              "    </tr>\n",
              "    <tr>\n",
              "      <th>5</th>\n",
              "      <td>4.121354</td>\n",
              "      <td>0.031063</td>\n",
              "      <td>0.341066</td>\n",
              "      <td>0.002075</td>\n",
              "      <td>5</td>\n",
              "      <td>50</td>\n",
              "      <td>{'max_depth': 5, 'n_estimators': 50}</td>\n",
              "      <td>0.605909</td>\n",
              "      <td>0.634706</td>\n",
              "      <td>0.614789</td>\n",
              "      <td>0.618468</td>\n",
              "      <td>0.012041</td>\n",
              "      <td>2</td>\n",
              "    </tr>\n",
              "    <tr>\n",
              "      <th>7</th>\n",
              "      <td>1.401829</td>\n",
              "      <td>0.012792</td>\n",
              "      <td>0.133992</td>\n",
              "      <td>0.001333</td>\n",
              "      <td>10</td>\n",
              "      <td>10</td>\n",
              "      <td>{'max_depth': 10, 'n_estimators': 10}</td>\n",
              "      <td>0.605759</td>\n",
              "      <td>0.631360</td>\n",
              "      <td>0.610454</td>\n",
              "      <td>0.615858</td>\n",
              "      <td>0.011128</td>\n",
              "      <td>3</td>\n",
              "    </tr>\n",
              "    <tr>\n",
              "      <th>2</th>\n",
              "      <td>2.978233</td>\n",
              "      <td>0.069401</td>\n",
              "      <td>0.290327</td>\n",
              "      <td>0.003286</td>\n",
              "      <td>3</td>\n",
              "      <td>50</td>\n",
              "      <td>{'max_depth': 3, 'n_estimators': 50}</td>\n",
              "      <td>0.600126</td>\n",
              "      <td>0.628893</td>\n",
              "      <td>0.614310</td>\n",
              "      <td>0.614443</td>\n",
              "      <td>0.011745</td>\n",
              "      <td>4</td>\n",
              "    </tr>\n",
              "    <tr>\n",
              "      <th>4</th>\n",
              "      <td>0.883044</td>\n",
              "      <td>0.013075</td>\n",
              "      <td>0.097582</td>\n",
              "      <td>0.005093</td>\n",
              "      <td>5</td>\n",
              "      <td>10</td>\n",
              "      <td>{'max_depth': 5, 'n_estimators': 10}</td>\n",
              "      <td>0.600965</td>\n",
              "      <td>0.631260</td>\n",
              "      <td>0.604091</td>\n",
              "      <td>0.612106</td>\n",
              "      <td>0.013605</td>\n",
              "      <td>5</td>\n",
              "    </tr>\n",
              "  </tbody>\n",
              "</table>\n",
              "</div>"
            ],
            "text/plain": [
              "   mean_fit_time  std_fit_time  ...  std_test_score  rank_test_score\n",
              "8       6.771274      0.137264  ...        0.009192                1\n",
              "5       4.121354      0.031063  ...        0.012041                2\n",
              "7       1.401829      0.012792  ...        0.011128                3\n",
              "2       2.978233      0.069401  ...        0.011745                4\n",
              "4       0.883044      0.013075  ...        0.013605                5\n",
              "\n",
              "[5 rows x 13 columns]"
            ]
          },
          "metadata": {},
          "execution_count": 57
        }
      ]
    },
    {
      "cell_type": "code",
      "metadata": {
        "id": "sw7yZ5UwadOz",
        "colab": {
          "base_uri": "https://localhost:8080/"
        },
        "outputId": "39717e62-9687-4d40-ea93-a584acc9c0b2"
      },
      "source": [
        "from sklearn.model_selection import RandomizedSearchCV\n",
        "from scipy.stats import randint\n",
        "\n",
        "search_space = {\n",
        "    \"n_estimators\": randint(10,100),\n",
        "    \"max_depth\": randint(1, 11)\n",
        "}\n",
        "\n",
        "random_search = RandomizedSearchCV(rfc, param_distributions=search_space, n_iter=9, cv=3)\n",
        "random_search.fit(X,y)\n",
        "\n",
        "print(f\"Optimal hyperparameters: {random_search.best_params_}\")\n",
        "print(f\"Best score: {random_search.best_score_:.3f}\")"
      ],
      "execution_count": 62,
      "outputs": [
        {
          "output_type": "stream",
          "name": "stdout",
          "text": [
            "Optimal hyperparameters: {'max_depth': 6, 'n_estimators': 50}\n",
            "Best score: 0.621\n"
          ]
        }
      ]
    },
    {
      "cell_type": "code",
      "metadata": {
        "id": "NIsrfxZGahRN",
        "colab": {
          "base_uri": "https://localhost:8080/",
          "height": 479
        },
        "outputId": "9091cbdf-55e8-475c-96a5-01ef05fbc17d"
      },
      "source": [
        "results = pd.DataFrame(random_search.cv_results_).sort_values(by='mean_test_score', ascending=False)\n",
        "results.head()"
      ],
      "execution_count": 63,
      "outputs": [
        {
          "output_type": "execute_result",
          "data": {
            "text/html": [
              "<div>\n",
              "<style scoped>\n",
              "    .dataframe tbody tr th:only-of-type {\n",
              "        vertical-align: middle;\n",
              "    }\n",
              "\n",
              "    .dataframe tbody tr th {\n",
              "        vertical-align: top;\n",
              "    }\n",
              "\n",
              "    .dataframe thead th {\n",
              "        text-align: right;\n",
              "    }\n",
              "</style>\n",
              "<table border=\"1\" class=\"dataframe\">\n",
              "  <thead>\n",
              "    <tr style=\"text-align: right;\">\n",
              "      <th></th>\n",
              "      <th>mean_fit_time</th>\n",
              "      <th>std_fit_time</th>\n",
              "      <th>mean_score_time</th>\n",
              "      <th>std_score_time</th>\n",
              "      <th>param_max_depth</th>\n",
              "      <th>param_n_estimators</th>\n",
              "      <th>params</th>\n",
              "      <th>split0_test_score</th>\n",
              "      <th>split1_test_score</th>\n",
              "      <th>split2_test_score</th>\n",
              "      <th>mean_test_score</th>\n",
              "      <th>std_test_score</th>\n",
              "      <th>rank_test_score</th>\n",
              "    </tr>\n",
              "  </thead>\n",
              "  <tbody>\n",
              "    <tr>\n",
              "      <th>4</th>\n",
              "      <td>5.329833</td>\n",
              "      <td>0.456786</td>\n",
              "      <td>0.392116</td>\n",
              "      <td>0.027255</td>\n",
              "      <td>6</td>\n",
              "      <td>50</td>\n",
              "      <td>{'max_depth': 6, 'n_estimators': 50}</td>\n",
              "      <td>0.608336</td>\n",
              "      <td>0.635436</td>\n",
              "      <td>0.618305</td>\n",
              "      <td>0.620692</td>\n",
              "      <td>0.011191</td>\n",
              "      <td>1</td>\n",
              "    </tr>\n",
              "    <tr>\n",
              "      <th>8</th>\n",
              "      <td>5.635434</td>\n",
              "      <td>0.091322</td>\n",
              "      <td>0.459238</td>\n",
              "      <td>0.004103</td>\n",
              "      <td>10</td>\n",
              "      <td>42</td>\n",
              "      <td>{'max_depth': 10, 'n_estimators': 42}</td>\n",
              "      <td>0.610314</td>\n",
              "      <td>0.632239</td>\n",
              "      <td>0.617666</td>\n",
              "      <td>0.620073</td>\n",
              "      <td>0.009111</td>\n",
              "      <td>2</td>\n",
              "    </tr>\n",
              "    <tr>\n",
              "      <th>5</th>\n",
              "      <td>4.980655</td>\n",
              "      <td>0.107770</td>\n",
              "      <td>0.388236</td>\n",
              "      <td>0.004158</td>\n",
              "      <td>7</td>\n",
              "      <td>47</td>\n",
              "      <td>{'max_depth': 7, 'n_estimators': 47}</td>\n",
              "      <td>0.608217</td>\n",
              "      <td>0.635046</td>\n",
              "      <td>0.616347</td>\n",
              "      <td>0.619870</td>\n",
              "      <td>0.011233</td>\n",
              "      <td>3</td>\n",
              "    </tr>\n",
              "    <tr>\n",
              "      <th>3</th>\n",
              "      <td>5.316387</td>\n",
              "      <td>0.124918</td>\n",
              "      <td>0.411056</td>\n",
              "      <td>0.010043</td>\n",
              "      <td>8</td>\n",
              "      <td>45</td>\n",
              "      <td>{'max_depth': 8, 'n_estimators': 45}</td>\n",
              "      <td>0.607737</td>\n",
              "      <td>0.633408</td>\n",
              "      <td>0.616967</td>\n",
              "      <td>0.619371</td>\n",
              "      <td>0.010617</td>\n",
              "      <td>4</td>\n",
              "    </tr>\n",
              "    <tr>\n",
              "      <th>1</th>\n",
              "      <td>6.635734</td>\n",
              "      <td>0.088954</td>\n",
              "      <td>0.538824</td>\n",
              "      <td>0.000530</td>\n",
              "      <td>5</td>\n",
              "      <td>82</td>\n",
              "      <td>{'max_depth': 5, 'n_estimators': 82}</td>\n",
              "      <td>0.605190</td>\n",
              "      <td>0.634277</td>\n",
              "      <td>0.615748</td>\n",
              "      <td>0.618405</td>\n",
              "      <td>0.012022</td>\n",
              "      <td>5</td>\n",
              "    </tr>\n",
              "  </tbody>\n",
              "</table>\n",
              "</div>"
            ],
            "text/plain": [
              "   mean_fit_time  std_fit_time  ...  std_test_score  rank_test_score\n",
              "4       5.329833      0.456786  ...        0.011191                1\n",
              "8       5.635434      0.091322  ...        0.009111                2\n",
              "5       4.980655      0.107770  ...        0.011233                3\n",
              "3       5.316387      0.124918  ...        0.010617                4\n",
              "1       6.635734      0.088954  ...        0.012022                5\n",
              "\n",
              "[5 rows x 13 columns]"
            ]
          },
          "metadata": {},
          "execution_count": 63
        }
      ]
    },
    {
      "cell_type": "markdown",
      "metadata": {
        "id": "f36fIFR6aoGN"
      },
      "source": [
        "**Evaluating Model Performance**"
      ]
    },
    {
      "cell_type": "code",
      "metadata": {
        "id": "QSmeuKVnak-L",
        "colab": {
          "base_uri": "https://localhost:8080/"
        },
        "outputId": "84e2829e-cf05-4126-f991-d51775f5e4cb"
      },
      "source": [
        "from sklearn.model_selection import train_test_split\n",
        "\n",
        "X_train, X_test, y_train, y_test = train_test_split(X, y, test_size=0.2)\n",
        "\n",
        "rfc = RandomForestClassifier(**random_search.best_params_)\n",
        "rfc.fit(X_train, y_train)"
      ],
      "execution_count": 64,
      "outputs": [
        {
          "output_type": "execute_result",
          "data": {
            "text/plain": [
              "RandomForestClassifier(bootstrap=True, ccp_alpha=0.0, class_weight=None,\n",
              "                       criterion='gini', max_depth=6, max_features='auto',\n",
              "                       max_leaf_nodes=None, max_samples=None,\n",
              "                       min_impurity_decrease=0.0, min_impurity_split=None,\n",
              "                       min_samples_leaf=1, min_samples_split=2,\n",
              "                       min_weight_fraction_leaf=0.0, n_estimators=50,\n",
              "                       n_jobs=None, oob_score=False, random_state=None,\n",
              "                       verbose=0, warm_start=False)"
            ]
          },
          "metadata": {},
          "execution_count": 64
        }
      ]
    },
    {
      "cell_type": "code",
      "metadata": {
        "id": "5zAM-HmOawQv",
        "colab": {
          "base_uri": "https://localhost:8080/"
        },
        "outputId": "a0f88505-c6b8-4b2c-abd2-f08101139a98"
      },
      "source": [
        "accuracy = rfc.score(X_test, y_test)\n",
        "\n",
        "print(f\"Accuracy: {accuracy:.3f}\")"
      ],
      "execution_count": 65,
      "outputs": [
        {
          "output_type": "stream",
          "name": "stdout",
          "text": [
            "Accuracy: 0.626\n"
          ]
        }
      ]
    },
    {
      "cell_type": "code",
      "metadata": {
        "id": "1H7FJn1BazAG",
        "colab": {
          "base_uri": "https://localhost:8080/"
        },
        "outputId": "725af164-dd5a-4a36-829b-fc00df09d861"
      },
      "source": [
        "from sklearn.metrics import precision_score, recall_score, confusion_matrix\n",
        "\n",
        "y_pred = rfc.predict(X_test)\n",
        "\n",
        "precision = precision_score(y_true=y_test, y_pred=y_pred)\n",
        "recall = recall_score(y_true=y_test, y_pred=y_pred)\n",
        "\n",
        "print(f\"Precision: {precision:.3f}\")\n",
        "print(f\"Recall: {recall:.3f}\")"
      ],
      "execution_count": 66,
      "outputs": [
        {
          "output_type": "stream",
          "name": "stdout",
          "text": [
            "Precision: 0.632\n",
            "Recall: 0.471\n"
          ]
        }
      ]
    },
    {
      "cell_type": "code",
      "metadata": {
        "id": "divlzBJUa3dE",
        "colab": {
          "base_uri": "https://localhost:8080/",
          "height": 296
        },
        "outputId": "45793aee-9223-4307-bd46-be26fe37c1bc"
      },
      "source": [
        "confusion = confusion_matrix(y_true=y_test, y_pred=y_pred)\n",
        "labels = np.array([['TN','FP'],['FN','TP']])\n",
        "\n",
        "sns.heatmap(confusion,annot=labels, fmt='', linewidths=2, cmap=\"Blues\")\n",
        "plt.xlabel(\"predicted\")\n",
        "plt.ylabel(\"actual\")"
      ],
      "execution_count": 67,
      "outputs": [
        {
          "output_type": "execute_result",
          "data": {
            "text/plain": [
              "Text(33.0, 0.5, 'actual')"
            ]
          },
          "metadata": {},
          "execution_count": 67
        },
        {
          "output_type": "display_data",
          "data": {
            "image/png": "[encoded data removed]",
            "text/plain": [
              "<Figure size 432x288 with 2 Axes>"
            ]
          },
          "metadata": {
            "needs_background": "light"
          }
        }
      ]
    },
    {
      "cell_type": "code",
      "metadata": {
        "id": "X1GtWFASa5zq",
        "colab": {
          "base_uri": "https://localhost:8080/",
          "height": 514
        },
        "outputId": "016397b9-0ac1-4f88-e5fd-c61086461c40"
      },
      "source": [
        "feature_importances = {\n",
        "    'features': list(X.columns.values),\n",
        "    'importance': list(rfc.feature_importances_)\n",
        "}\n",
        "\n",
        "important_features = pd.DataFrame(feature_importances)\n",
        "important_features.sort_values(by='importance', ascending=False).head(15)"
      ],
      "execution_count": 68,
      "outputs": [
        {
          "output_type": "execute_result",
          "data": {
            "text/html": [
              "<div>\n",
              "<style scoped>\n",
              "    .dataframe tbody tr th:only-of-type {\n",
              "        vertical-align: middle;\n",
              "    }\n",
              "\n",
              "    .dataframe tbody tr th {\n",
              "        vertical-align: top;\n",
              "    }\n",
              "\n",
              "    .dataframe thead th {\n",
              "        text-align: right;\n",
              "    }\n",
              "</style>\n",
              "<table border=\"1\" class=\"dataframe\">\n",
              "  <thead>\n",
              "    <tr style=\"text-align: right;\">\n",
              "      <th></th>\n",
              "      <th>features</th>\n",
              "      <th>importance</th>\n",
              "    </tr>\n",
              "  </thead>\n",
              "  <tbody>\n",
              "    <tr>\n",
              "      <th>39</th>\n",
              "      <td>number_inpatient</td>\n",
              "      <td>0.486821</td>\n",
              "    </tr>\n",
              "    <tr>\n",
              "      <th>38</th>\n",
              "      <td>number_emergency</td>\n",
              "      <td>0.149504</td>\n",
              "    </tr>\n",
              "    <tr>\n",
              "      <th>40</th>\n",
              "      <td>number_diagnoses</td>\n",
              "      <td>0.110958</td>\n",
              "    </tr>\n",
              "    <tr>\n",
              "      <th>37</th>\n",
              "      <td>number_outpatient</td>\n",
              "      <td>0.085357</td>\n",
              "    </tr>\n",
              "    <tr>\n",
              "      <th>36</th>\n",
              "      <td>num_medications</td>\n",
              "      <td>0.046052</td>\n",
              "    </tr>\n",
              "    <tr>\n",
              "      <th>28</th>\n",
              "      <td>age_label</td>\n",
              "      <td>0.026627</td>\n",
              "    </tr>\n",
              "    <tr>\n",
              "      <th>34</th>\n",
              "      <td>num_lab_procedures</td>\n",
              "      <td>0.022953</td>\n",
              "    </tr>\n",
              "    <tr>\n",
              "      <th>35</th>\n",
              "      <td>num_procedures</td>\n",
              "      <td>0.019990</td>\n",
              "    </tr>\n",
              "    <tr>\n",
              "      <th>17</th>\n",
              "      <td>insulin_bool</td>\n",
              "      <td>0.014735</td>\n",
              "    </tr>\n",
              "    <tr>\n",
              "      <th>0</th>\n",
              "      <td>metformin_bool</td>\n",
              "      <td>0.006561</td>\n",
              "    </tr>\n",
              "    <tr>\n",
              "      <th>25</th>\n",
              "      <td>race_Caucasian</td>\n",
              "      <td>0.006488</td>\n",
              "    </tr>\n",
              "    <tr>\n",
              "      <th>29</th>\n",
              "      <td>admission_type_Elective</td>\n",
              "      <td>0.005080</td>\n",
              "    </tr>\n",
              "    <tr>\n",
              "      <th>6</th>\n",
              "      <td>glipizide_bool</td>\n",
              "      <td>0.004840</td>\n",
              "    </tr>\n",
              "    <tr>\n",
              "      <th>1</th>\n",
              "      <td>repaglinide_bool</td>\n",
              "      <td>0.001473</td>\n",
              "    </tr>\n",
              "    <tr>\n",
              "      <th>33</th>\n",
              "      <td>gender_bool</td>\n",
              "      <td>0.001355</td>\n",
              "    </tr>\n",
              "  </tbody>\n",
              "</table>\n",
              "</div>"
            ],
            "text/plain": [
              "                   features  importance\n",
              "39         number_inpatient    0.486821\n",
              "38         number_emergency    0.149504\n",
              "40         number_diagnoses    0.110958\n",
              "37        number_outpatient    0.085357\n",
              "36          num_medications    0.046052\n",
              "28                age_label    0.026627\n",
              "34       num_lab_procedures    0.022953\n",
              "35           num_procedures    0.019990\n",
              "17             insulin_bool    0.014735\n",
              "0            metformin_bool    0.006561\n",
              "25           race_Caucasian    0.006488\n",
              "29  admission_type_Elective    0.005080\n",
              "6            glipizide_bool    0.004840\n",
              "1          repaglinide_bool    0.001473\n",
              "33              gender_bool    0.001355"
            ]
          },
          "metadata": {},
          "execution_count": 68
        }
      ]
    }
  ]
}