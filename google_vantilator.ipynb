{
  "nbformat": 4,
  "nbformat_minor": 0,
  "metadata": {
    "colab": {
      "name": "google_vantilator",
      "provenance": [],
      "collapsed_sections": [],
      "include_colab_link": true
    },
    "kernelspec": {
      "name": "python3",
      "display_name": "Python 3"
    },
    "language_info": {
      "name": "python"
    }
  },
  "cells": [
    {
      "cell_type": "markdown",
      "metadata": {
        "id": "view-in-github",
        "colab_type": "text"
      },
      "source": [
        "<a href=\"https://colab.research.google.com/github/pritiyadav888/Machine-Learning-Projects/blob/main/google_vantilator.ipynb\" target=\"_parent\"><img src=\"https://colab.research.google.com/assets/colab-badge.svg\" alt=\"Open In Colab\"/></a>"
      ]
    },
    {
      "cell_type": "code",
      "metadata": {
        "id": "FgXP1BkxEJMx",
        "colab": {
          "base_uri": "https://localhost:8080/"
        },
        "outputId": "f55d71e5-0028-45ee-8414-fe91093e3a94"
      },
      "source": [
        "from google.colab import drive\n",
        "drive.mount('/content/drive')\n"
      ],
      "execution_count": null,
      "outputs": [
        {
          "output_type": "stream",
          "name": "stdout",
          "text": [
            "Drive already mounted at /content/drive; to attempt to forcibly remount, call drive.mount(\"/content/drive\", force_remount=True).\n"
          ]
        }
      ]
    },
    {
      "cell_type": "code",
      "metadata": {
        "id": "NMq7as-wF7mr"
      },
      "source": [
        "# Importing DataScience libraries\n",
        "import pandas as pd\n",
        "import gc\n",
        "import numpy as np\n",
        "import matplotlib.pyplot as plt\n",
        "import seaborn as sns\n",
        "from scipy.stats import norm,skew\n",
        "from scipy import stats\n",
        "%matplotlib inline\n",
        "from sklearn.linear_model import LinearRegression,Ridge,RidgeCV, ElasticNetCV, LassoCV,BayesianRidge\n",
        "from sklearn.ensemble import RandomForestRegressor,  GradientBoostingRegressor\n",
        "from sklearn.kernel_ridge import KernelRidge\n",
        "from sklearn.pipeline import make_pipeline\n",
        "from sklearn.preprocessing import RobustScaler,StandardScaler,MinMaxScaler\n",
        "from sklearn.base import BaseEstimator, TransformerMixin, RegressorMixin, clone\n",
        "from sklearn.model_selection import KFold, cross_val_score, train_test_split, GridSearchCV\n",
        "from sklearn import linear_model\n",
        "from sklearn.metrics import mean_squared_error, r2_score,mean_absolute_error"
      ],
      "execution_count": null,
      "outputs": []
    },
    {
      "cell_type": "code",
      "metadata": {
        "id": "zTy8-cy-NJxc"
      },
      "source": [
        "train = pd.read_csv('/content/drive/MyDrive/Colab Notebooks/Predictive_Data/vantilator_google/train.csv')\n",
        "test = pd.read_csv('/content/drive/MyDrive/Colab Notebooks/Predictive_Data/vantilator_google/test.csv')"
      ],
      "execution_count": null,
      "outputs": []
    },
    {
      "cell_type": "code",
      "metadata": {
        "colab": {
          "base_uri": "https://localhost:8080/",
          "height": 300
        },
        "id": "wGs1bagGNGRX",
        "outputId": "8fa04d53-03de-4ccb-cd28-df40f0b406c7"
      },
      "source": [
        "train.describe()"
      ],
      "execution_count": null,
      "outputs": [
        {
          "output_type": "execute_result",
          "data": {
            "text/html": [
              "<div>\n",
              "<style scoped>\n",
              "    .dataframe tbody tr th:only-of-type {\n",
              "        vertical-align: middle;\n",
              "    }\n",
              "\n",
              "    .dataframe tbody tr th {\n",
              "        vertical-align: top;\n",
              "    }\n",
              "\n",
              "    .dataframe thead th {\n",
              "        text-align: right;\n",
              "    }\n",
              "</style>\n",
              "<table border=\"1\" class=\"dataframe\">\n",
              "  <thead>\n",
              "    <tr style=\"text-align: right;\">\n",
              "      <th></th>\n",
              "      <th>id</th>\n",
              "      <th>breath_id</th>\n",
              "      <th>R</th>\n",
              "      <th>C</th>\n",
              "      <th>time_step</th>\n",
              "      <th>u_in</th>\n",
              "      <th>u_out</th>\n",
              "      <th>pressure</th>\n",
              "    </tr>\n",
              "  </thead>\n",
              "  <tbody>\n",
              "    <tr>\n",
              "      <th>count</th>\n",
              "      <td>6.036000e+06</td>\n",
              "      <td>6.036000e+06</td>\n",
              "      <td>6.036000e+06</td>\n",
              "      <td>6.036000e+06</td>\n",
              "      <td>6.036000e+06</td>\n",
              "      <td>6.036000e+06</td>\n",
              "      <td>6.036000e+06</td>\n",
              "      <td>6.036000e+06</td>\n",
              "    </tr>\n",
              "    <tr>\n",
              "      <th>mean</th>\n",
              "      <td>3.018000e+06</td>\n",
              "      <td>6.283886e+04</td>\n",
              "      <td>2.703618e+01</td>\n",
              "      <td>2.608072e+01</td>\n",
              "      <td>1.307225e+00</td>\n",
              "      <td>7.321615e+00</td>\n",
              "      <td>6.204493e-01</td>\n",
              "      <td>1.122041e+01</td>\n",
              "    </tr>\n",
              "    <tr>\n",
              "      <th>std</th>\n",
              "      <td>1.742443e+06</td>\n",
              "      <td>3.633526e+04</td>\n",
              "      <td>1.959549e+01</td>\n",
              "      <td>1.715231e+01</td>\n",
              "      <td>7.659778e-01</td>\n",
              "      <td>1.343470e+01</td>\n",
              "      <td>4.852752e-01</td>\n",
              "      <td>8.109703e+00</td>\n",
              "    </tr>\n",
              "    <tr>\n",
              "      <th>min</th>\n",
              "      <td>1.000000e+00</td>\n",
              "      <td>1.000000e+00</td>\n",
              "      <td>5.000000e+00</td>\n",
              "      <td>1.000000e+01</td>\n",
              "      <td>0.000000e+00</td>\n",
              "      <td>0.000000e+00</td>\n",
              "      <td>0.000000e+00</td>\n",
              "      <td>-1.895744e+00</td>\n",
              "    </tr>\n",
              "    <tr>\n",
              "      <th>25%</th>\n",
              "      <td>1.509001e+06</td>\n",
              "      <td>3.137700e+04</td>\n",
              "      <td>5.000000e+00</td>\n",
              "      <td>1.000000e+01</td>\n",
              "      <td>6.428995e-01</td>\n",
              "      <td>3.936623e-01</td>\n",
              "      <td>0.000000e+00</td>\n",
              "      <td>6.329607e+00</td>\n",
              "    </tr>\n",
              "    <tr>\n",
              "      <th>50%</th>\n",
              "      <td>3.018000e+06</td>\n",
              "      <td>6.276550e+04</td>\n",
              "      <td>2.000000e+01</td>\n",
              "      <td>2.000000e+01</td>\n",
              "      <td>1.308123e+00</td>\n",
              "      <td>4.386146e+00</td>\n",
              "      <td>1.000000e+00</td>\n",
              "      <td>7.032628e+00</td>\n",
              "    </tr>\n",
              "    <tr>\n",
              "      <th>75%</th>\n",
              "      <td>4.527000e+06</td>\n",
              "      <td>9.430100e+04</td>\n",
              "      <td>5.000000e+01</td>\n",
              "      <td>5.000000e+01</td>\n",
              "      <td>1.965502e+00</td>\n",
              "      <td>4.983895e+00</td>\n",
              "      <td>1.000000e+00</td>\n",
              "      <td>1.364103e+01</td>\n",
              "    </tr>\n",
              "    <tr>\n",
              "      <th>max</th>\n",
              "      <td>6.036000e+06</td>\n",
              "      <td>1.257490e+05</td>\n",
              "      <td>5.000000e+01</td>\n",
              "      <td>5.000000e+01</td>\n",
              "      <td>2.937238e+00</td>\n",
              "      <td>1.000000e+02</td>\n",
              "      <td>1.000000e+00</td>\n",
              "      <td>6.482099e+01</td>\n",
              "    </tr>\n",
              "  </tbody>\n",
              "</table>\n",
              "</div>"
            ],
            "text/plain": [
              "                 id     breath_id  ...         u_out      pressure\n",
              "count  6.036000e+06  6.036000e+06  ...  6.036000e+06  6.036000e+06\n",
              "mean   3.018000e+06  6.283886e+04  ...  6.204493e-01  1.122041e+01\n",
              "std    1.742443e+06  3.633526e+04  ...  4.852752e-01  8.109703e+00\n",
              "min    1.000000e+00  1.000000e+00  ...  0.000000e+00 -1.895744e+00\n",
              "25%    1.509001e+06  3.137700e+04  ...  0.000000e+00  6.329607e+00\n",
              "50%    3.018000e+06  6.276550e+04  ...  1.000000e+00  7.032628e+00\n",
              "75%    4.527000e+06  9.430100e+04  ...  1.000000e+00  1.364103e+01\n",
              "max    6.036000e+06  1.257490e+05  ...  1.000000e+00  6.482099e+01\n",
              "\n",
              "[8 rows x 8 columns]"
            ]
          },
          "metadata": {},
          "execution_count": 7
        }
      ]
    },
    {
      "cell_type": "code",
      "metadata": {
        "colab": {
          "base_uri": "https://localhost:8080/"
        },
        "id": "n6GCMRqTNRwe",
        "outputId": "30cefbc6-c413-4c48-a9b8-6be58aa010d8"
      },
      "source": [
        "train.isnull().sum().max()"
      ],
      "execution_count": null,
      "outputs": [
        {
          "output_type": "execute_result",
          "data": {
            "text/plain": [
              "0"
            ]
          },
          "metadata": {},
          "execution_count": 8
        }
      ]
    },
    {
      "cell_type": "code",
      "metadata": {
        "id": "w8wWyvPNPgUN"
      },
      "source": [
        "train = train.fillna(0)\n",
        "test = test.fillna(0)"
      ],
      "execution_count": null,
      "outputs": []
    },
    {
      "cell_type": "code",
      "metadata": {
        "id": "H3E72a6ZVH97"
      },
      "source": [
        "# train_df = train.head(10000)\n",
        "# train_df.info()"
      ],
      "execution_count": null,
      "outputs": []
    },
    {
      "cell_type": "code",
      "metadata": {
        "id": "6GMa-7QcVaOG"
      },
      "source": [
        "# test_df = test.head(10000)\n",
        "# test_df.info()"
      ],
      "execution_count": null,
      "outputs": []
    },
    {
      "cell_type": "code",
      "metadata": {
        "id": "BdQ4WJxaE6FM"
      },
      "source": [
        "# X array - drop target\n",
        "X= train.drop(['pressure'],axis=1).values"
      ],
      "execution_count": null,
      "outputs": []
    },
    {
      "cell_type": "code",
      "metadata": {
        "id": "4d5M4NzyOLUb"
      },
      "source": [
        "# y array - target only\n",
        "y=train['pressure'].values"
      ],
      "execution_count": null,
      "outputs": []
    },
    {
      "cell_type": "code",
      "metadata": {
        "id": "tpryhVA9EuhL"
      },
      "source": [
        "# Split Train into Train and Validate Sets\n",
        "X_train, X_val, y_train, y_val = train_test_split(X, y, test_size=0.20,random_state=42)"
      ],
      "execution_count": null,
      "outputs": []
    },
    {
      "cell_type": "code",
      "metadata": {
        "colab": {
          "base_uri": "https://localhost:8080/"
        },
        "id": "glUOxH4lOcjI",
        "outputId": "316d8a83-d6b2-4d19-a71d-14bfde7d4036"
      },
      "source": [
        "# Size of our newly split datasets \n",
        "print('Train size: %i' % X_train.shape[0])\n",
        "print('Validation size: %i' % X_val.shape[0])"
      ],
      "execution_count": null,
      "outputs": [
        {
          "output_type": "stream",
          "name": "stdout",
          "text": [
            "Train size: 4828800\n",
            "Validation size: 1207200\n"
          ]
        }
      ]
    },
    {
      "cell_type": "code",
      "metadata": {
        "id": "qw0RA5BSOhb_"
      },
      "source": [
        "# No. of folds for Cross Validation\n",
        "n_folds = 3\n",
        "# Defining a function which returns the mean squared error between the cross validation score of X and y arrays\n",
        "def rmse_cv(model):\n",
        "    kf = KFold(n_folds, shuffle=True, random_state=42)\n",
        "    rmse= np.sqrt(-cross_val_score(model,X_train, y_train, scoring=\"neg_mean_squared_error\", cv = kf))\n",
        "    return(rmse)"
      ],
      "execution_count": null,
      "outputs": []
    },
    {
      "cell_type": "code",
      "metadata": {
        "id": "hZ4YRdUSOmSj"
      },
      "source": [
        "# Intialize the Cross Validation function with Shuffle\n",
        "n_folds = 3\n",
        "custom_cv = KFold(n_folds, shuffle=True, random_state=42)"
      ],
      "execution_count": null,
      "outputs": []
    },
    {
      "cell_type": "code",
      "metadata": {
        "id": "3t3dR-8xOrVl"
      },
      "source": [
        "#define  our  GB model\n",
        "GBR = GradientBoostingRegressor(n_estimators=3000, learning_rate=0.05,\n",
        "                                   max_depth=4, max_features='sqrt',\n",
        "                                   min_samples_leaf=15, min_samples_split=10, \n",
        "                                   loss='huber', random_state =5)"
      ],
      "execution_count": null,
      "outputs": []
    },
    {
      "cell_type": "code",
      "metadata": {
        "id": "Fy9Gpj9COus8"
      },
      "source": [
        "#fitting he model on the train set\n",
        "GBR.fit(X_train,y_train)"
      ],
      "execution_count": null,
      "outputs": []
    },
    {
      "cell_type": "code",
      "metadata": {
        "id": "DNO5U4CfRV3m"
      },
      "source": [
        "# #Cross Validation Error\n",
        "# rmse_cv(GBR).mean()"
      ],
      "execution_count": null,
      "outputs": []
    },
    {
      "cell_type": "code",
      "metadata": {
        "id": "LZf_-kf7RWv_"
      },
      "source": [
        "# R squared, RMSE and Mean Absolute Error obtained by using actual and predicted values from Validate set\n",
        "print('Validation R^2: %.5f'  % r2_score(y_val,GBR.predict(X_val)))\n",
        "print('Validation RMSE: %.5f\\n'   % mean_squared_error(y_val,GBR.predict(X_val)))\n",
        "print('Validation Mean Absolute Error: %.5f\\n'   % mean_absolute_error(y_val,GBR.predict(X_val)))"
      ],
      "execution_count": null,
      "outputs": []
    },
    {
      "cell_type": "code",
      "metadata": {
        "id": "aiCMdpD2t-4f"
      },
      "source": [
        "gc.collect()"
      ],
      "execution_count": null,
      "outputs": []
    },
    {
      "cell_type": "code",
      "metadata": {
        "id": "f4oTX464Rk_r"
      },
      "source": [
        "# ridgecv model\n",
        "ridgecv = RidgeCV(alphas=[0.1, 1.0, 10.0],cv =3)"
      ],
      "execution_count": null,
      "outputs": []
    },
    {
      "cell_type": "code",
      "metadata": {
        "id": "CA7wD4p7Rsmf"
      },
      "source": [
        "#fitting our model on the training data\n",
        "ridgecv.fit(X_train,y_train)"
      ],
      "execution_count": null,
      "outputs": []
    },
    {
      "cell_type": "code",
      "metadata": {
        "id": "59uJZcJuRu3j"
      },
      "source": [
        "# let's call our function to calculate the mean cross validation error\n",
        "rmse_cv(ridgecv).mean()"
      ],
      "execution_count": null,
      "outputs": []
    },
    {
      "cell_type": "code",
      "metadata": {
        "id": "eLlVzHB6Rz_E"
      },
      "source": [
        "# R- squared, RMSE and Mean Absolute Error for the validation sets\n",
        "print('Validation R^2: %.5f'  % r2_score(y_val,ridgecv.predict(X_val)))\n",
        "print('Validation RMSE: %.5f\\n'   % mean_squared_error(y_val,ridgecv.predict(X_val)))\n",
        "print('Validation Mean Absolute Error: %.5f\\n'   % mean_absolute_error(y_val,ridgecv.predict(X_val)))"
      ],
      "execution_count": null,
      "outputs": []
    },
    {
      "cell_type": "code",
      "metadata": {
        "id": "yPiuWaofuAbI"
      },
      "source": [
        "gc.collect()"
      ],
      "execution_count": null,
      "outputs": []
    },
    {
      "cell_type": "code",
      "metadata": {
        "id": "lCEaf4XMR4hs"
      },
      "source": [
        "# kernel model\n",
        "KRR = KernelRidge(alpha=3)"
      ],
      "execution_count": null,
      "outputs": []
    },
    {
      "cell_type": "code",
      "metadata": {
        "id": "napLbNxNR7uG"
      },
      "source": [
        "# fitting on train\n",
        "KRR.fit(X_train,y_train)"
      ],
      "execution_count": null,
      "outputs": []
    },
    {
      "cell_type": "code",
      "metadata": {
        "id": "wgAVAdwmR9k2"
      },
      "source": [
        "#  model estimatores\n",
        "print('Validation R^2: %.5f'  % r2_score(y_val,KRR.predict(X_val)))\n",
        "print('Validation RMSE: %.5f\\n'   % mean_squared_error(y_val,KRR.predict(X_val)))\n",
        "print('Validation Mean Absolute Error: %.5f\\n'   % mean_absolute_error(y_val,KRR.predict(X_val)))"
      ],
      "execution_count": null,
      "outputs": []
    },
    {
      "cell_type": "code",
      "metadata": {
        "id": "X256ZCU8uBw5"
      },
      "source": [
        "gc.collect()"
      ],
      "execution_count": null,
      "outputs": []
    },
    {
      "cell_type": "code",
      "metadata": {
        "id": "0ylnQPLoWZY7"
      },
      "source": [
        "# define the model with alpha values in a numpy array with cross-validation function included\n",
        "lasso = LassoCV(alphas = [1, 0.1, 0.001, 0.0005],cv =custom_cv)"
      ],
      "execution_count": null,
      "outputs": []
    },
    {
      "cell_type": "code",
      "metadata": {
        "id": "5J9pcUMuWadH"
      },
      "source": [
        "# fit the model\n",
        "lasso.fit(X_train,y_train)"
      ],
      "execution_count": null,
      "outputs": []
    },
    {
      "cell_type": "code",
      "metadata": {
        "id": "gxsMkbp9Wd_v"
      },
      "source": [
        "# Model scoring\n",
        "print('Validation R^2: %.5f'  % r2_score(y_val,lasso.predict(X_val)))\n",
        "print('Validation RMSE: %.5f\\n'   % mean_squared_error(y_val,lasso.predict(X_val)))\n",
        "print('Validation Mean Absolute Error: %.5f\\n'   % mean_absolute_error(y_val,lasso.predict(X_val)))"
      ],
      "execution_count": null,
      "outputs": []
    },
    {
      "cell_type": "code",
      "metadata": {
        "id": "fhn-StYlWhLy"
      },
      "source": [
        "#CV error\n",
        "rmse_cv(lasso).mean()"
      ],
      "execution_count": null,
      "outputs": []
    },
    {
      "cell_type": "code",
      "metadata": {
        "id": "B8wyasBCuFiv"
      },
      "source": [
        "gc.collect()\n"
      ],
      "execution_count": null,
      "outputs": []
    },
    {
      "cell_type": "code",
      "metadata": {
        "id": "YKOMBMfFWk4u"
      },
      "source": [
        "# defining the model with alphas and Elasticnet mixing parameter l1_ratio\n",
        "Elastic = ElasticNetCV(alphas=[0.0001, 0.0005, 0.001, 0.01, 0.1, 1, 10], l1_ratio=[.01, .1, .5, .9, .99], max_iter=5000\n",
        "                       ,cv=custom_cv)"
      ],
      "execution_count": null,
      "outputs": []
    },
    {
      "cell_type": "code",
      "metadata": {
        "id": "qgQugGXDWpd9"
      },
      "source": [
        "# fit the model\n",
        "Elastic.fit(X_train,y_train)"
      ],
      "execution_count": null,
      "outputs": []
    },
    {
      "cell_type": "code",
      "metadata": {
        "id": "g0sF13oEWyhk"
      },
      "source": [
        "# Model scores\n",
        "print('Validation R^2: %.5f'  % r2_score(y_val,Elastic.predict(X_val)))\n",
        "print('Validation RMSE: %.5f\\n'   % mean_squared_error(y_val,Elastic.predict(X_val)))\n",
        "print('Validation Mean Absolute Error: %.5f\\n'   % mean_absolute_error(y_val,Elastic.predict(X_val)))"
      ],
      "execution_count": null,
      "outputs": []
    },
    {
      "cell_type": "code",
      "metadata": {
        "id": "brBtEB_qW3PP"
      },
      "source": [
        "# CV error\n",
        "rmse_cv(Elastic).mean()"
      ],
      "execution_count": null,
      "outputs": []
    },
    {
      "cell_type": "code",
      "metadata": {
        "id": "VwABg0wAuHNA"
      },
      "source": [
        "gc.collect()\n"
      ],
      "execution_count": null,
      "outputs": []
    },
    {
      "cell_type": "code",
      "metadata": {
        "id": "sZwG0MjSW4T9"
      },
      "source": [
        "# import pipeline\n",
        "from sklearn.pipeline import Pipeline\n",
        "# initialize pipeline with the model and here we have function which takes cares of outlier\n",
        "GBRPipe = Pipeline([\n",
        "        ('outlier', RobustScaler()),\n",
        "        ('gbm', GradientBoostingRegressor(n_estimators=3000, learning_rate=0.05,\n",
        "                                   max_depth=4, max_features='sqrt',\n",
        "                                   min_samples_leaf=15, min_samples_split=10, \n",
        "                                   loss='huber', random_state =5))])"
      ],
      "execution_count": null,
      "outputs": []
    },
    {
      "cell_type": "code",
      "metadata": {
        "id": "gq9FLQx7W8q9"
      },
      "source": [
        "# set up the parameter grid with parameters you like to iterate on. Here we have 3\n",
        "param_grid = {'gbm__learning_rate': [0.01, 0.05],\n",
        "             'gbm__max_depth': [1,5],\n",
        "             'gbm__min_samples_leaf': [10, 15]}"
      ],
      "execution_count": null,
      "outputs": []
    },
    {
      "cell_type": "code",
      "metadata": {
        "id": "H-Mvt0GVW_wl"
      },
      "source": [
        "#  setup gridsearchcv with estimator, param_grid\n",
        "GBRGrid = GridSearchCV(estimator = GBRPipe,param_grid=param_grid)"
      ],
      "execution_count": null,
      "outputs": []
    },
    {
      "cell_type": "code",
      "metadata": {
        "id": "Nlbvm1PUXFyO"
      },
      "source": [
        "GBRGrid.fit(X_train,y_train)"
      ],
      "execution_count": null,
      "outputs": []
    },
    {
      "cell_type": "code",
      "metadata": {
        "id": "T7Yxd8LyrGOG"
      },
      "source": [
        "gc.collect()"
      ],
      "execution_count": null,
      "outputs": []
    },
    {
      "cell_type": "code",
      "metadata": {
        "id": "td1bsFjHXL0Y"
      },
      "source": [
        "print('Validation R^2: %.5f'  % r2_score(y_val,GBRGrid.predict(X_val)))\n",
        "print('Validation RMSE: %.5f\\n'   % mean_squared_error(y_val,GBRGrid.predict(X_val)))\n",
        "print('Validation Mean Absolute Error: %.5f\\n'   % mean_absolute_error(y_val,GBRGrid.predict(X_val)))"
      ],
      "execution_count": null,
      "outputs": []
    },
    {
      "cell_type": "code",
      "metadata": {
        "id": "Dig_G7VQXPqd"
      },
      "source": [
        "GBRGrid.predict(test)"
      ],
      "execution_count": null,
      "outputs": []
    },
    {
      "cell_type": "code",
      "metadata": {
        "id": "2mwCa37_XPjA"
      },
      "source": [
        "GBRGrid.best_score_"
      ],
      "execution_count": null,
      "outputs": []
    },
    {
      "cell_type": "code",
      "metadata": {
        "id": "TpSiC362YwUP"
      },
      "source": [
        "predicted = GBRGrid.predict(test)\n",
        "predicted"
      ],
      "execution_count": null,
      "outputs": []
    },
    {
      "cell_type": "code",
      "metadata": {
        "id": "3XdysV8wYysY"
      },
      "source": [
        "test_result = test\n",
        "test_result['pressure'] = predicted"
      ],
      "execution_count": null,
      "outputs": []
    },
    {
      "cell_type": "code",
      "metadata": {
        "id": "e_YPqH2rY0WD"
      },
      "source": [
        "submit_result = test_result[['id','pressure']]\n",
        "submit_result"
      ],
      "execution_count": null,
      "outputs": []
    },
    {
      "cell_type": "code",
      "metadata": {
        "id": "jB_j4FSbY2L7"
      },
      "source": [
        "submit_result.to_csv('/content/drive/MyDrive/Colab Notebooks/Predictive_Data/vantilator_google/submission.csv', index=False)"
      ],
      "execution_count": null,
      "outputs": []
    }
  ]
}