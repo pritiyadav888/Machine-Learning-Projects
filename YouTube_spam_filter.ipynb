{
  "nbformat": 4,
  "nbformat_minor": 0,
  "metadata": {
    "colab": {
      "name": "YouTube_spam_filter.ipynb",
      "provenance": [],
      "authorship_tag": "ABX9TyNS3STDhDnIDJ2NW+onW1Ws",
      "include_colab_link": true
    },
    "kernelspec": {
      "name": "python3",
      "display_name": "Python 3"
    },
    "language_info": {
      "name": "python"
    }
  },
  "cells": [
    {
      "cell_type": "markdown",
      "metadata": {
        "id": "view-in-github",
        "colab_type": "text"
      },
      "source": [
        "<a href=\"https://colab.research.google.com/github/pritiyadav888/Machine-Learning-Projects/blob/main/YouTube_spam_filter.ipynb\" target=\"_parent\"><img src=\"https://colab.research.google.com/assets/colab-badge.svg\" alt=\"Open In Colab\"/></a>"
      ]
    },
    {
      "cell_type": "code",
      "metadata": {
        "colab": {
          "base_uri": "https://localhost:8080/"
        },
        "id": "0Qt8oIaV-v9J",
        "outputId": "eb77c241-a40d-4b63-acaf-37f1f1fa36e3"
      },
      "source": [
        "from google.colab import drive\n",
        "drive.mount('/content/drive')"
      ],
      "execution_count": 1,
      "outputs": [
        {
          "output_type": "stream",
          "name": "stdout",
          "text": [
            "Mounted at /content/drive\n"
          ]
        }
      ]
    },
    {
      "cell_type": "code",
      "metadata": {
        "id": "HpfS2ckk_Txb"
      },
      "source": [
        "# EDA Packages\n",
        "import pandas as pd\n",
        "import numpy as np\n",
        "# ML Packages For Vectorization of Text For Feature Extraction\n",
        "from sklearn.feature_extraction.text import CountVectorizer\n",
        "\n",
        "# Visualization Packages\n",
        "import matplotlib.pyplot as plt\n",
        "import seaborn as sns\n"
      ],
      "execution_count": 3,
      "outputs": []
    },
    {
      "cell_type": "code",
      "metadata": {
        "id": "igkJJNaJ-ynk"
      },
      "source": [
        "#1.Load the data into a pandas data frame.\n",
        "# Dataset from https://archive.ics.uci.edu/ml/datasets/YouTube+Spam+Collection#\n",
        "\n",
        "data = pd.read_csv('/content/drive/MyDrive/Colab Notebooks/Predictive_Data/Youtube01-Psy.csv')"
      ],
      "execution_count": 5,
      "outputs": []
    },
    {
      "cell_type": "code",
      "metadata": {
        "colab": {
          "base_uri": "https://localhost:8080/",
          "height": 1000
        },
        "id": "1421OF7m-Fgo",
        "outputId": "6d26010b-fa19-49ba-95ac-2f143a15faa5"
      },
      "source": [
        "#2.Some basic data exploration and presentation of results\n",
        "# Total Size\n",
        "data.shape\n",
        "data.size\n",
        "\n",
        "# Checking for Consistent Column Name\n",
        "data.columns\n",
        "\n",
        "# Checking for Datatypes\n",
        "data.dtypes\n",
        "\n",
        "# Check for missing nan\n",
        "data.isnull().isnull().sum()\n",
        "# Checking for Date\n",
        "data[\"DATE\"]\n",
        "data.AUTHOR\n",
        "\n",
        "# Convert the Author Name to First Name and Last Name\n",
        "df_data = data[[\"CONTENT\",\"CLASS\"]]\n",
        "\n",
        "df_data.columns\n",
        "\n",
        "df_x = df_data['CONTENT']\n",
        "df_y = df_data['CLASS']\n",
        "\n",
        "\n",
        "#3. Using nltk toolkit classes and methods prepared the data for model building\n",
        "#Feature Extraction From Text #CountVectorizer#TfidfVectorizer\n",
        "\n",
        "corpus = df_x\n",
        "cv = CountVectorizer()\n",
        "X = cv.fit_transform(corpus) # Fit the Data\n",
        "\n",
        "X.toarray()\n",
        "\n",
        "\n",
        "#4. get the feature names #.new shape of data (350, 1418)\n",
        "cv.get_feature_names()\n",
        "X.shape\n",
        "\n",
        "\n",
        "#5.Downscale the transformed data using tf-idf \n",
        "from sklearn.feature_extraction.text import TfidfTransformer\n",
        "tfidf = TfidfTransformer()\n",
        "x_tfidf = tfidf.fit_transform(X)\n",
        "# there are 1418 different words / 1259 without stop words in the 350 video comments\n",
        "print(\"\\nDimensions of training data:\", x_tfidf.shape)\n",
        "print(x_tfidf)\n",
        "#type-scipy.sparse.csr.csr_matrix\n",
        "type(x_tfidf)\n",
        "print(x_tfidf.toarray())\n",
        "#.shape of data (350, 1418)\n",
        "x_tfidf.shape\n",
        "\n",
        "\n",
        "#6.shuffle the dataset\n",
        "shuffle_dataset = df_data.sample(frac=1)\n",
        "\n",
        "\n",
        "#7.Model#spliting your dataset into 75% for training and 25% for testing\n",
        "from sklearn.model_selection import train_test_split\n",
        "X_train, X_test, y_train, y_test = train_test_split(X, df_y, test_size=0.25, random_state=42)\n",
        "X_train\n",
        "\n",
        "#8.Naive Bayes Classifier #Fit the training data \n",
        "from sklearn.naive_bayes import MultinomialNB\n",
        "clf = MultinomialNB()   \n",
        "clf.fit(X_train,y_train)\n",
        "clf.score(X_test,y_test)\n",
        "\n",
        "# Accuracy of our Model \n",
        "print(\"Accuracy of Model\",clf.score(X_test,y_test)*100,\"%\")\n",
        "print(\"Accuracy of Model\",clf.score(X_train,y_train)*100,\"%\")\n",
        "\n",
        "#The training-set accuracy score is 100% while the test-set accuracy to be 96%. These two values are quite comparable. So, there is sign of overfitting.\n",
        "## Predicting with our model\n",
        "clf.predict(X_test)\n",
        "\n",
        "# Sample Prediciton one\n",
        "comment = [\"Check this out\"]\n",
        "vect = cv.transform(comment).toarray()\n",
        "clf.predict(vect)\n",
        "class_dict = {'ham':0,'spam':1}\n",
        "class_dict.values()\n",
        "\n",
        "if clf.predict(vect) == 1:\n",
        "    print(\"Spam\")\n",
        "else:\n",
        "    print(\"Ham\")\n",
        "    \n",
        "    \n",
        "#11. Sample Prediciton two #Added more comments\n",
        "comment1 = [\"Check this out\",\"Great song Friend\",\"wow this music video really express the korean culture\", \"*** Facebook is LAME and so 2004! Check ou...\",\n",
        "    \"it seems like k-pop music video, too many dancers\", \"im selling this beautiful mercedes-benz car\", \"Though I do not necessarily concur with the idea in totality, I regard your point of view\"]\n",
        "vect = cv.transform(comment1).toarray()\n",
        "\n",
        "predictions = clf.predict(vect)\n",
        "\n",
        "for p in predictions:\n",
        "    if p == 1:\n",
        "        print(\"Spam\")\n",
        "    else:\n",
        "        print(\"Ham\")\n",
        "\n",
        "\n",
        "#Pickle is the standard way of serializing objects in Python. You can use the pickle operation to serialize your machine learning algorithms and save the serialized format to a file. \n",
        "#Later you can load this file to deserialize your model and use it to make new predictions\n",
        "\n",
        "import pickle\n",
        "naivebayesML = open(\"YtbSpam_model.pkl\",\"wb\")\n",
        "pickle.dump(clf,naivebayesML)\n",
        "naivebayesML.close()\n",
        "# Load the model\n",
        "\n",
        "ytb_model = open(\"YtbSpam_model.pkl\",\"rb\")\n",
        "new_model = pickle.load(ytb_model)\n",
        "\n",
        "new_model\n",
        "# Sample Prediciton 3\n",
        "comment2 = [\"Hey Music Fans I really appreciate all of you,but see this song too\"]\n",
        "vect = cv.transform(comment2).toarray()\n",
        "new_model.predict(vect)\n",
        "\n",
        "if new_model.predict(vect) == 1:\n",
        "    print(\"Spam\")\n",
        "else:\n",
        "    print(\"Ham\")\n",
        "\n",
        "\n",
        "#9.Applying 5-Fold Cross Validation\n",
        "from sklearn.model_selection import cross_val_score\n",
        "\n",
        "scores = cross_val_score(clf, X_train, y_train, cv = 5, scoring='accuracy')\n",
        "\n",
        "print('Cross-validation scores:{}'.format(scores))\n",
        "\n",
        "#10.Print the Confusion Matrix and slice it into four pieces #Test the model on the test data\n",
        "\n",
        "from sklearn.metrics import confusion_matrix\n",
        "from sklearn.metrics import plot_confusion_matrix\n",
        "\n",
        "y_pred = clf.predict(X_test)\n",
        "\n",
        "cm = confusion_matrix(y_test, y_pred)\n",
        "\n",
        "plot_confusion_matrix(clf, X_test, y_test)\n",
        "\n",
        "plt.show() \n",
        "\n",
        "print('Confusion matrix\\n\\n', cm)\n",
        "\n",
        "print('\\nTrue Positives(TP) = ', cm[0,0])\n",
        "\n",
        "print('\\nTrue Negatives(TN) = ', cm[1,1])\n",
        "\n",
        "print('\\nFalse Positives(FP) = ', cm[0,1])\n",
        "\n",
        "print('\\nFalse Negatives(FN) = ', cm[1,0])\n",
        "#The confusion matrix shows 37 + 48 = 85 correct predictions and 1+2 = 3 incorrect predictions.\n",
        "#For more commnets check above."
      ],
      "execution_count": 6,
      "outputs": [
        {
          "output_type": "stream",
          "name": "stdout",
          "text": [
            "\n",
            "Dimensions of training data: (350, 1418)\n",
            "  (0, 1400)\t0.21397167142374784\n",
            "  (0, 1258)\t0.44754357578671583\n",
            "  (0, 1223)\t0.18264016105736508\n",
            "  (0, 924)\t0.23016367977154104\n",
            "  (0, 736)\t0.44754357578671583\n",
            "  (0, 653)\t0.44754357578671583\n",
            "  (0, 308)\t0.20574818027767602\n",
            "  (0, 306)\t0.22324766889902328\n",
            "  (0, 193)\t0.41812173331553615\n",
            "  (1, 1356)\t0.2599340488555252\n",
            "  (1, 1298)\t0.2599340488555252\n",
            "  (1, 1284)\t0.19654497488145362\n",
            "  (1, 1223)\t0.10607770754794794\n",
            "  (1, 1207)\t0.29572991752621125\n",
            "  (1, 1164)\t0.13696512107834471\n",
            "  (1, 1087)\t0.2599340488555252\n",
            "  (1, 968)\t0.2716823851106715\n",
            "  (1, 924)\t0.13367944579996588\n",
            "  (1, 923)\t0.2015089199391452\n",
            "  (1, 882)\t0.16974134159323326\n",
            "  (1, 870)\t0.11070094887565296\n",
            "  (1, 849)\t0.2599340488555252\n",
            "  (1, 848)\t0.2599340488555252\n",
            "  (1, 765)\t0.14052877713504328\n",
            "  (1, 760)\t0.2428457940975844\n",
            "  :\t:\n",
            "  (348, 336)\t0.21446497918134305\n",
            "  (348, 278)\t0.22880906120419403\n",
            "  (348, 199)\t0.19481621228879306\n",
            "  (348, 183)\t0.21376698593164775\n",
            "  (349, 1347)\t0.21834169208155027\n",
            "  (349, 1329)\t0.18179684483972575\n",
            "  (349, 1304)\t0.19069658234890746\n",
            "  (349, 1235)\t0.09551603160288073\n",
            "  (349, 1225)\t0.24598680181419302\n",
            "  (349, 1223)\t0.10038590995827652\n",
            "  (349, 1219)\t0.17452522982699\n",
            "  (349, 1207)\t0.27986197627183806\n",
            "  (349, 1159)\t0.21834169208155027\n",
            "  (349, 1074)\t0.1683771669354358\n",
            "  (349, 1025)\t0.20217033955963276\n",
            "  (349, 922)\t0.21834169208155027\n",
            "  (349, 690)\t0.12270532537174822\n",
            "  (349, 648)\t0.15035043510439097\n",
            "  (349, 610)\t0.21834169208155027\n",
            "  (349, 515)\t0.39204455333615706\n",
            "  (349, 356)\t0.22981544929227554\n",
            "  (349, 284)\t0.18599898703771528\n",
            "  (349, 245)\t0.39549695908083377\n",
            "  (349, 230)\t0.19069658234890746\n",
            "  (349, 181)\t0.10306365783978702\n",
            "[[0. 0. 0. ... 0. 0. 0.]\n",
            " [0. 0. 0. ... 0. 0. 0.]\n",
            " [0. 0. 0. ... 0. 0. 0.]\n",
            " ...\n",
            " [0. 0. 0. ... 0. 0. 0.]\n",
            " [0. 0. 0. ... 0. 0. 0.]\n",
            " [0. 0. 0. ... 0. 0. 0.]]\n",
            "Accuracy of Model 96.5909090909091 %\n",
            "Accuracy of Model 100.0 %\n",
            "Spam\n",
            "Spam\n",
            "Ham\n",
            "Ham\n",
            "Spam\n",
            "Ham\n",
            "Ham\n",
            "Ham\n",
            "Ham\n",
            "Cross-validation scores:[0.96226415 0.9245283  0.96153846 0.94230769 0.96153846]\n"
          ]
        },
        {
          "output_type": "display_data",
          "data": {
            "image/png": "[encoded data removed]",
            "text/plain": [
              "<Figure size 432x288 with 2 Axes>"
            ]
          },
          "metadata": {
            "needs_background": "light"
          }
        },
        {
          "output_type": "stream",
          "name": "stdout",
          "text": [
            "Confusion matrix\n",
            "\n",
            " [[37  1]\n",
            " [ 2 48]]\n",
            "\n",
            "True Positives(TP) =  37\n",
            "\n",
            "True Negatives(TN) =  48\n",
            "\n",
            "False Positives(FP) =  1\n",
            "\n",
            "False Negatives(FN) =  2\n"
          ]
        }
      ]
    },
    {
      "cell_type": "code",
      "metadata": {
        "id": "iXhSo4cJ-t78"
      },
      "source": [
        ""
      ],
      "execution_count": null,
      "outputs": []
    }
  ]
}